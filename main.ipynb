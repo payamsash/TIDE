{
 "cells": [
  {
   "cell_type": "code",
   "execution_count": null,
   "metadata": {},
   "outputs": [],
   "source": [
    "%matplotlib qt\n",
    "import mne\n",
    "from eeg.eeg_processing import process\n",
    "from eeg.eeg_feature_extraction import extract_eeg_features, get_full_sensor_features_list\n",
    "import numpy as np\n",
    "from scipy.signal import find_peaks\n",
    "import matplotlib.pyplot as plt\n",
    "import os\n",
    "\n",
    "from eeg.eeg_preprocessing import preprocess\n",
    "from eeg.eeg_processing import process\n",
    "from pathlib import Path"
   ]
  },
  {
   "cell_type": "code",
   "execution_count": null,
   "metadata": {},
   "outputs": [],
   "source": [
    "preprocess(fname=\"/Users/payamsadeghishabestari/Downloads/OneDrive_4_02-05-2025/30028_ses-1_rest.eeg_._2025-01-23_15-29-49.cnt\",\n",
    "            subject_id=\"30028\",\n",
    "            subjects_dir=\"/Users/payamsadeghishabestari/antinomics_clean_codes/subjects/new_style\",\n",
    "            site=\"Ghent\",\n",
    "            paradigm=\"rest\")"
   ]
  },
  {
   "cell_type": "code",
   "execution_count": null,
   "metadata": {},
   "outputs": [],
   "source": [
    "process(subject_id=\"30028\", subjects_dir=\"/Users/payamsadeghishabestari/antinomics_clean_codes/subjects/new_style\",\n",
    "        paradigm=\"rest\")"
   ]
  }
 ],
 "metadata": {
  "kernelspec": {
   "display_name": "venv",
   "language": "python",
   "name": "python3"
  },
  "language_info": {
   "codemirror_mode": {
    "name": "ipython",
    "version": 3
   },
   "file_extension": ".py",
   "mimetype": "text/x-python",
   "name": "python",
   "nbconvert_exporter": "python",
   "pygments_lexer": "ipython3",
   "version": "3.10.16"
  }
 },
 "nbformat": 4,
 "nbformat_minor": 2
}
