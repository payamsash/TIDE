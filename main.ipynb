{
 "cells": [
  {
   "cell_type": "code",
   "execution_count": null,
   "metadata": {},
   "outputs": [],
   "source": [
    "%matplotlib qt"
   ]
  },
  {
   "cell_type": "code",
   "execution_count": null,
   "metadata": {},
   "outputs": [],
   "source": [
    "import mne\n",
    "from eeg.eeg_processing import process\n",
    "from eeg.eeg_feature_extraction import extract_eeg_features, get_full_features_list"
   ]
  },
  {
   "cell_type": "code",
   "execution_count": null,
   "metadata": {},
   "outputs": [],
   "source": [
    "get_full_features_list()"
   ]
  },
  {
   "cell_type": "code",
   "execution_count": null,
   "metadata": {},
   "outputs": [],
   "source": [
    "df = extract_eeg_features(subject_id=\"zdfy\",\n",
    "                    subjects_dir=\"/Users/payamsadeghishabestari/antinomics_clean_codes/subjects/new_style\",\n",
    "                    sensor_space_features=[\"pow_freq_bands\"],\n",
    "                    source_space_power=True,\n",
    "                    sensor_space_connectivity=True,\n",
    "                    source_space_connectivity=False,\n",
    "                    freq_bands={\"alpha\": [8, 13], \"theta\": [4, 8]})\n"
   ]
  },
  {
   "cell_type": "code",
   "execution_count": null,
   "metadata": {},
   "outputs": [],
   "source": []
  },
  {
   "cell_type": "code",
   "execution_count": null,
   "metadata": {},
   "outputs": [],
   "source": [
    "raw.plot()"
   ]
  },
  {
   "cell_type": "code",
   "execution_count": null,
   "metadata": {},
   "outputs": [],
   "source": [
    "## zurich\n",
    "import mne\n",
    "fname = \"/Users/payamsadeghishabestari/antinomics_clean_codes/typy_gpias.vhdr\"\n",
    "raw = mne.io.read_raw_brainvision(fname, preload=True)\n",
    "events_orig = mne.events_from_annotations(raw)[0]\n",
    "\n",
    "## get the cropped data\n",
    "\n",
    "## from a dictionar\n",
    "data = raw.get_data(picks=\"Audio\")[0]"
   ]
  },
  {
   "cell_type": "code",
   "execution_count": null,
   "metadata": {},
   "outputs": [],
   "source": [
    "%matplotlib qt\n",
    "import matplotlib.pyplot as plt\n",
    "\n",
    "signal = data[:100000]\n",
    "\n",
    "plt.figure()\n",
    "time = range(len(signal))\n",
    "plt.plot(time, signal)\n",
    "plt.scatter(time, signal, color=\"red\")\n"
   ]
  },
  {
   "cell_type": "code",
   "execution_count": null,
   "metadata": {},
   "outputs": [],
   "source": [
    "raw.plot(picks=\"Audio\")"
   ]
  },
  {
   "cell_type": "code",
   "execution_count": null,
   "metadata": {},
   "outputs": [],
   "source": [
    "events_dict = { \n",
    "                \"pre\": {\n",
    "                        \"PO70\": 11,\n",
    "                        \"PO75\": 12,\n",
    "                        \"PO80\": 13,\n",
    "                        \"PO85\": 14,\n",
    "                        \"PO90\": 15,\n",
    "                        },\n",
    "                \"bbn\": {\n",
    "                        \"PO\": 21,\n",
    "                        \"GO\": 22,\n",
    "                        \"GP\": 23,\n",
    "                        },\n",
    "                \"3kHz\": {\n",
    "                        \"PO\": 31,\n",
    "                        \"GO\": 32,\n",
    "                        \"GP\": 33,\n",
    "                        },\n",
    "                \"8kHz\": {\n",
    "                        \"PO\": 41,\n",
    "                        \"GO\": 42,\n",
    "                        \"GP\": 43,\n",
    "                        },\n",
    "                \"post\": {\n",
    "                        \"PO70\": 51,\n",
    "                        \"PO75\": 52,\n",
    "                        \"PO80\": 53,\n",
    "                        \"PO85\": 54,\n",
    "                        \"PO90\": 55,\n",
    "                        }\n",
    "                }\n",
    "\n",
    "\n",
    "# this should go to config\n",
    "height_limits = {\n",
    "                \"PO70\": [300, 650],\n",
    "                \"PO75\": [650, 1100],\n",
    "                \"PO80\": [1100, 1500],\n",
    "                \"PO85\": [1500, 1900],\n",
    "                \"PO90\": [1900, 3000],\n",
    "                \"PO\": [1700, 3000],\n",
    "                \"GO\": [300, 900],\n",
    "                \"GP\": [1200, 1700],\n",
    "                }\n",
    "\n",
    "\n"
   ]
  },
  {
   "cell_type": "code",
   "execution_count": null,
   "metadata": {},
   "outputs": [],
   "source": [
    "split_indices[0][0]"
   ]
  },
  {
   "cell_type": "code",
   "execution_count": null,
   "metadata": {},
   "outputs": [],
   "source": [
    "## first block detection\n",
    "key_dict = {0: \"init\", 1: \"pre\", 2: \"bbn\", 3: \"3kHz\", 4: \"8kHz\", 5: \"post\"}\n",
    "split_indices = events_orig[np.isin(events_orig[:, 2], [1, 2, 3, 4, 5])]\n",
    "segments = np.split(data, split_indices[:, 0])\n",
    "blocks =[key_dict[i] for i in split_indices[:, 2]]\n",
    "blocks_dict = dict(zip([\"init\"] + blocks, segments))\n",
    "\n",
    "## get triggers from blocks\n",
    "for main_key, signal in blocks_dict.items():\n",
    "    categorized = np.zeros_like(signal, dtype=int)\n",
    "    if  main_key in [\"pre\", \"post\"]:\n",
    "        for sub_key in list(height_limits.keys())[:5]:\n",
    "            (low, high) = height_limits[sub_key]\n",
    "            mask = (signal >= low) & (signal < high)\n",
    "            categorized[mask] = events_dict[main_key][sub_key]\n",
    "    if main_key in [\"bbn\", \"3kHz\", \"8kHz\"]:\n",
    "        for sub_key in list(height_limits.keys())[5:]:\n",
    "            (low, high) = height_limits[sub_key]\n",
    "            mask = (signal >= low) & (signal < high)\n",
    "            categorized[mask] = events_dict[main_key][sub_key]\n",
    "    if main_key == \"init\":\n",
    "        pass\n",
    "    \n",
    "    blocks_dict[main_key] = categorized\n",
    "\n",
    "## make them stim channel\n",
    "stim_data = np.concatenate(list(blocks_dict.values()))\n",
    "info = mne.create_info(['STI'], raw.info['sfreq'], ['stim'])\n",
    "stim_raw = mne.io.RawArray(stim_data[np.newaxis,], info)\n",
    "raw.add_channels([stim_raw], force_update_info=True)"
   ]
  },
  {
   "cell_type": "code",
   "execution_count": null,
   "metadata": {},
   "outputs": [],
   "source": [
    "events = mne.find_events(raw, stim_channel=\"STI\", output=\"onset\", min_duration=0.02 / 1000, shortest_event=0.5)\n",
    "events\n",
    "\n",
    "## add meaningful checks here and errors"
   ]
  },
  {
   "cell_type": "code",
   "execution_count": null,
   "metadata": {},
   "outputs": [],
   "source": [
    "len(events[events[:, 2] == 14])"
   ]
  },
  {
   "cell_type": "code",
   "execution_count": null,
   "metadata": {},
   "outputs": [],
   "source": [
    "stim_raw.plot()"
   ]
  },
  {
   "cell_type": "code",
   "execution_count": null,
   "metadata": {},
   "outputs": [],
   "source": [
    "plt.figure()\n",
    "plt.plot(blocks_dict[\"post\"])"
   ]
  },
  {
   "cell_type": "code",
   "execution_count": null,
   "metadata": {},
   "outputs": [],
   "source": [
    "blocks_dict[\"pre\"]"
   ]
  },
  {
   "cell_type": "code",
   "execution_count": null,
   "metadata": {},
   "outputs": [],
   "source": [
    "np.concatenate(list(blocks_dict.values())).shape"
   ]
  },
  {
   "cell_type": "code",
   "execution_count": null,
   "metadata": {},
   "outputs": [],
   "source": [
    "## now split the parts into blocks\n",
    "\n",
    "## this part works\n",
    "import numpy as np\n",
    "categorized = np.zeros_like(data, dtype=int)\n",
    "\n",
    "# Enumerate through each range and assign integer labels starting from 1\n",
    "for idx, (key, (low, high)) in enumerate(height_limits.items(), start=1):\n",
    "    mask = (data >= low) & (data < high)\n",
    "    categorized[mask] = idx\n",
    "\n",
    "## make it mne stim channel\n",
    "\n",
    "## find_stim"
   ]
  },
  {
   "cell_type": "code",
   "execution_count": null,
   "metadata": {},
   "outputs": [],
   "source": [
    "categorized"
   ]
  },
  {
   "cell_type": "code",
   "execution_count": null,
   "metadata": {},
   "outputs": [],
   "source": [
    "\n",
    "    match stim_key:\n",
    "        case \"gappre\" | \"gappost\":\n",
    "            height_limits = {\n",
    "                            \"PO70\": [300, 650],\n",
    "                            \"PO75\": [650, 1100],\n",
    "                            \"PO80\": [1100, 1500],\n",
    "                            \"PO85\": [1500, 1900],\n",
    "                            \"PO90\": [1900, 3000],\n",
    "                            }\n",
    "        case \"gapbbn\" | \"gap3\" | \"gap8\":\n",
    "            height_limits = {\n",
    "                            \"PO\": [1700, 3000],\n",
    "                            \"GO\": [300, 900],\n",
    "                            \"GP\": [1200, 1700],\n",
    "                            }  "
   ]
  },
  {
   "cell_type": "code",
   "execution_count": null,
   "metadata": {},
   "outputs": [],
   "source": [
    "signal = data[:40000]\n",
    "thr = 200\n",
    "ttl_signal = np.zeros_like(signal)\n",
    "ttl_signalsignal > thr] = 1\n",
    "ttl_signal[signal < -thr] = -1\n",
    "\n",
    "plt.figure()\n",
    "time = range(len(ttl_signal))\n",
    "plt.plot(time, ttl_signal)\n",
    "plt.scatter(time, ttl_signal, color=\"red\")\n",
    "\n",
    "up_going = True\n",
    "if up_going:\n",
    "    if \n"
   ]
  },
  {
   "cell_type": "code",
   "execution_count": null,
   "metadata": {},
   "outputs": [],
   "source": [
    "events_dict = { \n",
    "                \"PO70_pre\": 11,\n",
    "                \"PO75_pre\": 12,\n",
    "                \"PO80_pre\": 13,\n",
    "                \"PO85_pre\": 14,\n",
    "                \"PO90_pre\": 15,               \n",
    "                \"PO_bbn\": 21,\n",
    "                \"GO_bbn\": 22,\n",
    "                \"GP_bbn\": 23,\n",
    "                \"PO_3\": 31,\n",
    "                \"GO_3\": 32,\n",
    "                \"GP_3\": 33,\n",
    "                \"PO_8\": 41,\n",
    "                \"GO_8\": 42,\n",
    "                \"GP_8\": 43,\n",
    "                \"PO70_post\": 51,\n",
    "                \"PO75_post\": 52,\n",
    "                \"PO80_post\": 53,\n",
    "                \"PO85_post\": 54,\n",
    "                \"PO90_post\": 55,\n",
    "                }\n",
    "\n",
    "match stim_key:\n",
    "    case \"gappre\" | \"gappost\":\n",
    "        height_limits = {\n",
    "                        \"PO70\": [300, 650],\n",
    "                        \"PO75\": [650, 1100],\n",
    "                        \"PO80\": [1100, 1500],\n",
    "                        \"PO85\": [1500, 1900],\n",
    "                        \"PO90\": [1900, 3000],\n",
    "                        }\n",
    "    case \"gapbbn\" | \"gap3\" | \"gap8\":\n",
    "        height_limits = {\n",
    "                        \"PO\": [1700, 3000],\n",
    "                        \"GO\": [300, 900],\n",
    "                        \"GP\": [1200, 1700],\n",
    "                        }   "
   ]
  },
  {
   "cell_type": "code",
   "execution_count": null,
   "metadata": {},
   "outputs": [],
   "source": [
    "raw.info"
   ]
  },
  {
   "cell_type": "code",
   "execution_count": null,
   "metadata": {},
   "outputs": [],
   "source": [
    "config.get(\"sensor_space_features\", None)"
   ]
  },
  {
   "cell_type": "code",
   "execution_count": null,
   "metadata": {},
   "outputs": [],
   "source": [
    "import numpy as np\n",
    "\n",
    "# Let's assume:\n",
    "con_matrix = np.squeeze(con.get_data(output=\"dense\"))  # your (59, 59) connectivity matrix\n",
    "names = [f\"name_{i+1}\" for i in range(59)]  # list of 59 region names\n",
    "\n",
    "# Get lower triangle indices (excluding diagonal)\n",
    "i_lower, j_lower = np.tril_indices_from(con_matrix, k=-1)\n",
    "\n",
    "# Extract values and labels\n",
    "con_values = con_matrix[i_lower, j_lower]\n",
    "con_labels = [f\"{names[i]} vs {names[j]}\" for i, j in zip(i_lower, j_lower)]\n"
   ]
  },
  {
   "cell_type": "code",
   "execution_count": null,
   "metadata": {},
   "outputs": [],
   "source": [
    "con_labels.shape"
   ]
  },
  {
   "cell_type": "code",
   "execution_count": null,
   "metadata": {},
   "outputs": [],
   "source": [
    "n_epochs, n_channels, n_times = label_ts.shape\n",
    "reshaped_data = label_ts.reshape(-1, n_times)\n",
    "freqs, psd = welch(reshaped_data, 250, axis=-1, nperseg=min(256, n_times))\n",
    "\n",
    "columns = []\n",
    "labels_power = []\n",
    "for key, value in freq_bands.items():\n",
    "    min_freq, max_freq = list(value)\n",
    "    band_mask = (freqs >= min_freq) & (freqs <= max_freq)\n",
    "    band_powers = np.trapz(psd[:, band_mask], freqs[band_mask], axis=-1)\n",
    "    labels_power.append(band_powers.reshape(n_epochs, n_channels))\n",
    "    columns += [f\"{lb.name}_{key}\" for lb in labels]\n",
    "\n",
    "labels_power = np.concatenate(labels_power, axis=1)"
   ]
  },
  {
   "cell_type": "code",
   "execution_count": null,
   "metadata": {},
   "outputs": [],
   "source": [
    "data = np.array(label_ts)\n",
    "n_epochs, n_channels, n_times = data.shape\n",
    "reshaped_data = data.reshape(-1, n_times)"
   ]
  },
  {
   "cell_type": "code",
   "execution_count": null,
   "metadata": {},
   "outputs": [],
   "source": [
    "reshaped_data.shape"
   ]
  },
  {
   "cell_type": "code",
   "execution_count": null,
   "metadata": {},
   "outputs": [],
   "source": [
    "data = np.array(label_ts)\n",
    "n_epochs, n_channels, n_times = data.shape\n",
    "reshaped_data = data.reshape(-1, n_times)\n",
    "\n",
    "# Compute PSDs for all flattened (epoch, channel) pairs\n",
    "freqs, psd = welch(reshaped_data, 250, axis=-1, nperseg=min(256, n_times))\n",
    "\n",
    "# Extract the desired frequency band\n",
    "band_mask = (freqs >= 8) & (freqs <= 13)\n",
    "band_powers = np.trapz(psd[:, band_mask], freqs[band_mask], axis=-1)\n",
    "x = band_powers.reshape(n_epochs, n_channels)"
   ]
  },
  {
   "cell_type": "code",
   "execution_count": null,
   "metadata": {},
   "outputs": [],
   "source": [
    "x.shape"
   ]
  },
  {
   "cell_type": "code",
   "execution_count": null,
   "metadata": {},
   "outputs": [],
   "source": [
    "columns = []\n",
    "labels = mne.read_labels_from_annot(subject=\"fsaverage\", subjects_dir=None, parc=\"aparc\")[:-1]\n",
    "columns += [f\"{lb.name}_alpha\" for lb in labels]\n",
    "# inv = mne.minimum_norm.read_inverse_operator(\"/Users/payamsadeghishabestari/antinomics_clean_codes/subjects/new_style/zdfy/inv/rest-inv.fif\")\n",
    "# label_ts = src_power[0].extract_label_time_course(labels=labels, src=inv[\"src\"], mode=\"mean_flip\")"
   ]
  },
  {
   "cell_type": "code",
   "execution_count": null,
   "metadata": {},
   "outputs": [],
   "source": [
    "np.array(columns).ravel().shape"
   ]
  },
  {
   "cell_type": "code",
   "execution_count": null,
   "metadata": {},
   "outputs": [],
   "source": [
    "import pandas as pd\n",
    "pd.DataFrame(x, columns=np.array(columns))\n"
   ]
  },
  {
   "cell_type": "code",
   "execution_count": null,
   "metadata": {},
   "outputs": [],
   "source": [
    "band_powers.shape"
   ]
  },
  {
   "cell_type": "code",
   "execution_count": null,
   "metadata": {},
   "outputs": [],
   "source": [
    "raw = mne.io.read_raw_fif(\"/Users/payamsadeghishabestari/antinomics_clean_codes/subjects/new_style/zdfy/preprocessed/raw_rest.fif\", preload=True)\n",
    "raw.plot()"
   ]
  },
  {
   "cell_type": "code",
   "execution_count": null,
   "metadata": {},
   "outputs": [],
   "source": [
    "mne.events_from_annotations(raw)"
   ]
  },
  {
   "cell_type": "code",
   "execution_count": null,
   "metadata": {},
   "outputs": [],
   "source": [
    "process(subject_id=\"zdfy\",\n",
    "        subjects_dir=\"/Users/payamsadeghishabestari/antinomics_clean_codes/subjects/new_style\",\n",
    "        paradigm=\"rest\")"
   ]
  },
  {
   "cell_type": "code",
   "execution_count": null,
   "metadata": {},
   "outputs": [],
   "source": [
    "import random\n",
    "import numpy as np\n",
    "from pyriemann.clustering import Potato\n",
    "from pyriemann.estimation import Covariances\n",
    "import mne\n",
    "from scipy.signal import welch"
   ]
  },
  {
   "cell_type": "code",
   "execution_count": null,
   "metadata": {},
   "outputs": [],
   "source": [
    "epochs = mne.read_epochs(\"/Users/payamsadeghishabestari/antinomics_clean_codes/subjects/new_style/zdfy/epochs/epochs-rest-eo.fif\", preload=True)"
   ]
  },
  {
   "cell_type": "code",
   "execution_count": null,
   "metadata": {},
   "outputs": [],
   "source": [
    "%matplotlib qt\n",
    "fname = \"/Users/payamsadeghishabestari/antinomics_clean_codes/subjects/zdfy/EEG/rest_v1/zdfy_rest_v1.vhdr\"\n",
    "sub_dir = \"/Users/payamsadeghishabestari/antinomics_clean_codes/subjects/new_style\"\n",
    "preprocess(fname=fname, subject_id=\"zdfy\",\n",
    "            subjects_dir=sub_dir,\n",
    "            site=\"Zuerich\",\n",
    "            paradigm=\"rest\")"
   ]
  },
  {
   "cell_type": "code",
   "execution_count": null,
   "metadata": {},
   "outputs": [],
   "source": [
    "from eeg import preprocessing\n",
    "preprocessing(subject_id=\"zdfy\",\n",
    "                subjects_dir=\"/Users/payamsadeghishabestari/antinomics_clean_codes/subjects\",\n",
    "                paradigm=\"rest\",\n",
    "                site=\"Zuerich\",\n",
    "                psd_check=True,\n",
    "                manual_data_scroll=True,\n",
    "                run_ica=False,\n",
    "                manual_ica_removal=False,\n",
    "                ssp_eog=True,\n",
    "                ssp_ecg=True,\n",
    "                create_report=True,\n",
    "                saving_dir=None,\n",
    "                verbose=\"ERROR\")"
   ]
  },
  {
   "cell_type": "code",
   "execution_count": null,
   "metadata": {},
   "outputs": [],
   "source": [
    "%matplotlib qt\n",
    "from eeg_processing import run_rs_analysis\n",
    "run_rs_analysis(\n",
    "        subject_id=\"zdfy\",\n",
    "        subjects_dir=\"/Users/payamsadeghishabestari/antinomics_clean_codes/subjects\",\n",
    "        visit=1,\n",
    "        event_ids=None,\n",
    "        source_analysis=True,\n",
    "        mri=False,\n",
    "        subjects_fs_dir=None,\n",
    "        manual_data_scroll=True,\n",
    "        automatic_epoch_rejection=False,\n",
    "        create_report=True,\n",
    "        saving_dir=None,\n",
    "        verbose=\"ERROR\"\n",
    "        )"
   ]
  },
  {
   "cell_type": "code",
   "execution_count": null,
   "metadata": {},
   "outputs": [],
   "source": [
    "%matplotlib qt\n",
    "from eeg_processing import run_erp_analysis\n",
    "run_erp_analysis(\n",
    "        subject_id=\"zdfy\",\n",
    "        subjects_dir=\"/Users/payamsadeghishabestari/antinomics_clean_codes/subjects\",\n",
    "        paradigm=\"gpias\",\n",
    "        events=None,\n",
    "        source_analysis=True,\n",
    "        mri=False,\n",
    "        subjects_fs_dir=None,\n",
    "        manual_data_scroll=True,\n",
    "        automatic_epoch_rejection=False,\n",
    "        create_report=True,\n",
    "        saving_dir=None,\n",
    "        verbose=\"ERROR\"\n",
    "        )"
   ]
  },
  {
   "cell_type": "markdown",
   "metadata": {},
   "source": [
    "Eyetracking"
   ]
  },
  {
   "cell_type": "code",
   "execution_count": null,
   "metadata": {},
   "outputs": [],
   "source": [
    "from mne.io import read_raw_brainvision, read_raw_eyelink\n",
    "from mne import events_from_annotations\n",
    "from mne.preprocessing import realign_raw\n",
    "\n",
    "\n",
    "## load\n",
    "fname_eeg = \"/Users/payamsadeghishabestari/Downloads/alertness_01_H036.vhdr\"\n",
    "fname_et = \"/Users/payamsadeghishabestari/Downloads/local_al1H036.asc\"\n",
    "\n",
    "raw_eeg = read_raw_brainvision(fname_eeg, preload=True)\n",
    "raw_eye = read_raw_eyelink(fname=fname_et, create_annotations=True) \n",
    "events_eeg, event_ids_eeg = events_from_annotations(raw_eeg)\n",
    "events_eye, event_ids_eye = events_from_annotations(raw_eye)\n",
    "\n",
    "## for now\n",
    "stim_id_eeg_1, stim_id_eeg_2 = 8, 9\n",
    "stim_id_eye_1, stim_id_eye_2 = 4, 5\n",
    "\n",
    "s_raw = events_eeg[(events_eeg[:,2] == stim_id_eeg_1) | (events_eeg[:,2] == stim_id_eeg_2)][:, 0]\n",
    "s_other = events_eye[(events_eye[:,2] == stim_id_eye_1) | (events_eye[:,2] == stim_id_eye_2)][:, 0]\n",
    "\n",
    "## realigning\n",
    "realign_raw(raw=raw_eeg,\n",
    "            other=raw_eye,\n",
    "            t_raw=s_raw / raw_eeg.info[\"sfreq\"] - raw_eeg.first_time,\n",
    "            t_other=s_other / raw_eye.info[\"sfreq\"] - raw_eye.first_time,\n",
    "            verbose=None)\n",
    "\n",
    "raw_eye.add_channels([raw_eeg], force_update_info=True)\n",
    "events, event_dict = events_from_annotations(raw_eye)\n",
    "del raw_eeg  "
   ]
  },
  {
   "cell_type": "code",
   "execution_count": null,
   "metadata": {},
   "outputs": [],
   "source": [
    "raw_eye.plot()"
   ]
  },
  {
   "cell_type": "markdown",
   "metadata": {},
   "source": [
    "Lets see what is regularity"
   ]
  },
  {
   "cell_type": "code",
   "execution_count": null,
   "metadata": {},
   "outputs": [],
   "source": [
    "import mne"
   ]
  },
  {
   "cell_type": "code",
   "execution_count": null,
   "metadata": {},
   "outputs": [],
   "source": [
    "fname = \"/Users/payamsadeghishabestari/antinomics_clean_codes/subjects/dvob/EEG/regularity/dvob_regularity.vhdr\"\n",
    "raw = mne.io.read_raw_brainvision(fname, preload=True)\n",
    "raw.resample(250)"
   ]
  },
  {
   "cell_type": "code",
   "execution_count": null,
   "metadata": {},
   "outputs": [],
   "source": [
    "events, events_dict = mne.events_from_annotations(raw)"
   ]
  },
  {
   "cell_type": "code",
   "execution_count": null,
   "metadata": {},
   "outputs": [],
   "source": [
    "import mne\n",
    "epochs_fnames = [\"/Users/payamsadeghishabestari/antinomics_clean_codes/subjects/zdfy/EEG/rest_v1/epochs-eo-epo.fif\",\n",
    "                \"/Users/payamsadeghishabestari/antinomics_clean_codes/subjects/zdfy/EEG/rest_v1/epochs-ec-epo.fif\"]\n",
    "\n",
    "epochs, eye_labels = [], []\n",
    "for ep_fname, title in zip(epochs_fnames, [\"open\", \"close\"]):\n",
    "    eps = mne.read_epochs(ep_fname, preload=True)\n",
    "    eps.drop_bad()\n",
    "    epochs.append(eps)\n",
    "    eye_labels += len(eps) * [title]"
   ]
  },
  {
   "cell_type": "code",
   "execution_count": null,
   "metadata": {},
   "outputs": [],
   "source": [
    "epochs = mne.concatenate_epochs(epochs)"
   ]
  },
  {
   "cell_type": "code",
   "execution_count": null,
   "metadata": {},
   "outputs": [],
   "source": [
    "import numpy as np\n",
    "import mne_features"
   ]
  },
  {
   "cell_type": "code",
   "execution_count": null,
   "metadata": {},
   "outputs": [],
   "source": [
    "def compute_sensor_band_power(epochs):\n",
    "    \"\"\"\n",
    "    \"\"\"\n",
    "    freq_bands = {\n",
    "                    \"delta\": (0.5, 4),\n",
    "                    \"theta\": (4, 8),\n",
    "                    \"alpha\": (8, 13),\n",
    "                    \"beta\": (13, 30),\n",
    "                    \"lower_gamma\": (30, 45),\n",
    "                    \"upper_gamma\": (45, 80)\n",
    "                    }\n",
    "    \n",
    "    psds, freqs = epochs.compute_psd(method=\"multitaper\",\n",
    "                                    picks=\"eeg\",\n",
    "                                    fmin=freq_bands[\"delta\"][0],\n",
    "                                    fmax=freq_bands[\"upper_gamma\"][1],\n",
    "                                    ).get_data(return_freqs=True)\n",
    "    psds /= np.sum(psds, axis=-1, keepdims=True)  # normalize the PSDs\n",
    "    ep_psds = []\n",
    "    for fmin, fmax in freq_bands.values():\n",
    "        psds_band = psds[:, :, (freqs >= fmin) & (freqs < fmax)].mean(axis=-1)\n",
    "        ep_psds.append(psds_band)\n",
    "    \n",
    "\n",
    "    return np.array(ep_psds).transpose(1, 2, 0)"
   ]
  },
  {
   "cell_type": "code",
   "execution_count": null,
   "metadata": {},
   "outputs": [],
   "source": [
    "freq_bands = {\n",
    "                \"delta\": (0.5, 4),\n",
    "                \"theta\": (4, 8),\n",
    "                \"alpha\": (8, 13),\n",
    "                \"beta\": (13, 30),\n",
    "                \"lower_gamma\": (30, 45),\n",
    "                \"upper_gamma\": (45, 80)\n",
    "                }\n",
    "\n",
    "\n",
    "\n",
    "epochs.pick(\"eeg\")\n",
    "funcs_params = {\n",
    "                    \"pow_freq_bands__freq_bands\": freq_bands,\n",
    "                    \"pow_freq_bands__psd_method\": \"multitaper\",\n",
    "                    \"pow_freq_bands__normalize\": True\n",
    "                    } \n",
    "\n",
    "powers = mne_features.feature_extraction.extract_features(epochs.get_data(),\n",
    "                                                epochs.info[\"sfreq\"],\n",
    "                                                selected_funcs=[\"pow_freq_bands\"],\n",
    "                                                funcs_params=funcs_params,\n",
    "                                                ch_names=epochs.info[\"ch_names\"]\n",
    "                                                )"
   ]
  },
  {
   "cell_type": "code",
   "execution_count": null,
   "metadata": {},
   "outputs": [],
   "source": [
    "n_chs = len(epochs.info[\"ch_names\"])\n",
    "n_freq_bands = len(freq_bands.keys())\n",
    "powers_reshaped = powers.reshape(len(epochs), n_chs, n_freq_bands)"
   ]
  },
  {
   "cell_type": "code",
   "execution_count": null,
   "metadata": {},
   "outputs": [],
   "source": [
    "columns = [f\"ch_{j}_freq_{k}\" for j in epochs.info[\"ch_names\"] for k in freq_bands]"
   ]
  },
  {
   "cell_type": "code",
   "execution_count": null,
   "metadata": {},
   "outputs": [],
   "source": [
    "df = pd.DataFrame(powers_reshaped, columns=columns)"
   ]
  },
  {
   "cell_type": "code",
   "execution_count": null,
   "metadata": {},
   "outputs": [],
   "source": [
    "hurst = mne_features.feature_extraction.extract_features(epochs.get_data(),\n",
    "                                                epochs.info[\"sfreq\"],\n",
    "                                                selected_funcs=[\"spect_slope\"],\n",
    "                                                funcs_params=None,\n",
    "                                                ch_names=epochs.info[\"ch_names\"]\n",
    "                                                )"
   ]
  },
  {
   "cell_type": "code",
   "execution_count": null,
   "metadata": {},
   "outputs": [],
   "source": [
    "y = hurst.reshape(len(epochs), n_chs, 4)[:,:,:2] # intercept and slope"
   ]
  },
  {
   "cell_type": "code",
   "execution_count": null,
   "metadata": {},
   "outputs": [],
   "source": [
    "y.shape"
   ]
  },
  {
   "cell_type": "code",
   "execution_count": null,
   "metadata": {},
   "outputs": [],
   "source": [
    "x = hurst.reshape(len(epochs), n_chs, 4)[:,:,:2]"
   ]
  },
  {
   "cell_type": "code",
   "execution_count": null,
   "metadata": {},
   "outputs": [],
   "source": [
    "x = x.reshape(257, 118)"
   ]
  },
  {
   "cell_type": "code",
   "execution_count": null,
   "metadata": {},
   "outputs": [],
   "source": [
    "x == hurst[:, :118]"
   ]
  },
  {
   "cell_type": "code",
   "execution_count": null,
   "metadata": {},
   "outputs": [],
   "source": [
    "freq_bands = {\n",
    "            \"delta\": (0.5, 4),\n",
    "            \"theta\": (4, 8),\n",
    "            \"alpha\": (8, 13),\n",
    "            \"beta\": (13, 30),\n",
    "            \"lower_gamma\": (30, 45),\n",
    "            \"upper_gamma\": (45, 80)\n",
    "            }\n",
    "\n",
    "psds, freqs = epochs.compute_psd(method=\"multitaper\",\n",
    "                                    picks=\"eeg\",\n",
    "                                    fmin=freq_bands[\"delta\"][0],\n",
    "                                    fmax=freq_bands[\"upper_gamma\"][1],\n",
    "                                    ).get_data(return_freqs=True)"
   ]
  },
  {
   "cell_type": "code",
   "execution_count": null,
   "metadata": {},
   "outputs": [],
   "source": [
    "psds.shape"
   ]
  },
  {
   "cell_type": "code",
   "execution_count": null,
   "metadata": {},
   "outputs": [],
   "source": [
    "X"
   ]
  }
 ],
 "metadata": {
  "kernelspec": {
   "display_name": "venv",
   "language": "python",
   "name": "python3"
  },
  "language_info": {
   "codemirror_mode": {
    "name": "ipython",
    "version": 3
   },
   "file_extension": ".py",
   "mimetype": "text/x-python",
   "name": "python",
   "nbconvert_exporter": "python",
   "pygments_lexer": "ipython3",
   "version": "3.10.16"
  }
 },
 "nbformat": 4,
 "nbformat_minor": 2
}
