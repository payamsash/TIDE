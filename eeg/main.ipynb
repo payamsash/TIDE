{
 "cells": [
  {
   "cell_type": "code",
   "execution_count": 1,
   "metadata": {},
   "outputs": [],
   "source": [
    "%matplotlib qt\n",
    "import mne\n",
    "import matplotlib.pyplot as plt\n",
    "import pandas as pd\n",
    "from mne_icalabel.gui import label_ica_components"
   ]
  },
  {
   "cell_type": "code",
   "execution_count": 2,
   "metadata": {},
   "outputs": [
    {
     "data": {
      "text/plain": [
       "'/home/toedtli/Tinnitus/Antinomics/eeg/venv/bin/python'"
      ]
     },
     "execution_count": 2,
     "metadata": {},
     "output_type": "execute_result"
    }
   ],
   "source": [
    "import sys\n",
    "sys.executable"
   ]
  },
  {
   "cell_type": "code",
   "execution_count": 5,
   "metadata": {},
   "outputs": [],
   "source": [
    "mode='beat'\n",
    "if mode==\"payam\":\n",
    "\tsubject_id = \"zfdy\"\n",
    "\tsubjects_dir=\"/Users/payamsadeghishabestari/antinomics_clean_codes/subjects\"\n",
    "\tsite=\"Zuerich\"\n",
    "\tparadigm='rest'\n",
    "elif mode==\"beat\":\n",
    "\tsubject_id = \"50001\"\n",
    "\tsubjects_dir=\"/tmp/data_in/\"\n",
    "\tsite=\"Regensburg\"\n",
    "\tparadigm='rest'"
   ]
  },
  {
   "cell_type": "code",
   "execution_count": 6,
   "metadata": {},
   "outputs": [
    {
     "name": "stderr",
     "output_type": "stream",
     "text": [
      "\n",
      "                                                       \u001b[0m\u001b[A\n",
      " 20%|\u001b[36m█████████                                    \u001b[0m\n",
      "  0%|\u001b[36m                                             \u001b[0m\u001b[A\n",
      " 20%|\u001b[36m█████████                                    \u001b[0m\u001b[A"
     ]
    },
    {
     "name": "stdout",
     "output_type": "stream",
     "text": [
      "Loading raw EEG data ...\n",
      "\n"
     ]
    },
    {
     "name": "stderr",
     "output_type": "stream",
     "text": [
      "                                                  \n",
      " 20%|\u001b[36m█████████                                    \u001b[0m\n",
      " 20%|\u001b[36m█████████                                    \u001b[0m\u001b[A\n",
      " 40%|\u001b[36m██████████████████                           \u001b[0m\u001b[A"
     ]
    },
    {
     "name": "stdout",
     "output_type": "stream",
     "text": [
      "Resampling, filtering and re-referencing ...\n",
      "\n"
     ]
    },
    {
     "name": "stderr",
     "output_type": "stream",
     "text": [
      "                                                  \n",
      " 20%|\u001b[36m█████████                                    \u001b[0m\n",
      " 40%|\u001b[36m██████████████████                           \u001b[0m\u001b[A\n",
      " 60%|\u001b[36m███████████████████████████                  \u001b[0m\u001b[A"
     ]
    },
    {
     "name": "stdout",
     "output_type": "stream",
     "text": [
      "Creating report and saving...\n",
      "\n"
     ]
    },
    {
     "name": "stderr",
     "output_type": "stream",
     "text": [
      "                                                  \n",
      " 20%|\u001b[36m█████████                                    \u001b[0m\n",
      " 60%|\u001b[36m███████████████████████████                  \u001b[0m\u001b[A\n",
      " 80%|\u001b[36m████████████████████████████████████         \u001b[0m\u001b[A"
     ]
    },
    {
     "name": "stdout",
     "output_type": "stream",
     "text": [
      "\u001b[32mEEG data were preprocessed sucessfully!\n",
      "\n"
     ]
    },
    {
     "name": "stderr",
     "output_type": "stream",
     "text": [
      "\n"
     ]
    }
   ],
   "source": [
    "%matplotlib qt\n",
    "from eeg_preprocessing import preprocessing\n",
    "preprocessing(subject_id=subject_id,\n",
    "                subjects_dir=subjects_dir,\n",
    "                paradigm=paradigm,\n",
    "                site=site,\n",
    "                psd_check=True,\n",
    "                manual_data_scroll=True,\n",
    "                run_ica=False,\n",
    "                manual_ica_removal=False,\n",
    "                ssp_eog=False,\n",
    "                ssp_ecg=False,\n",
    "                create_report=True,\n",
    "                saving_dir=None,\n",
    "                verbose=\"ERROR\")"
   ]
  },
  {
   "cell_type": "code",
   "execution_count": 8,
   "metadata": {},
   "outputs": [
    {
     "name": "stderr",
     "output_type": "stream",
     "text": [
      "\n",
      "\n",
      "                                                       \u001b[0m\u001b[A\u001b[A\n",
      "\n",
      "\u001b[A\u001b[A                                            \n",
      " 20%|\u001b[36m█████████                                    \u001b[0m\n",
      "\n",
      "  0%|\u001b[36m                                             \u001b[0m\u001b[A\u001b[A\n",
      " 12%|\u001b[36m█████▋                                       \u001b[0m\u001b[A\n",
      "\n",
      "                                                       \u001b[0m\u001b[A\u001b[A\n",
      "\n",
      "\u001b[A\u001b[A                                            \n",
      " 20%|\u001b[36m█████████                                    \u001b[0m\n",
      "\n",
      " 12%|\u001b[36m█████▋                                       \u001b[0m\u001b[A\u001b[A\n",
      " 12%|\u001b[36m█████▋                                       \u001b[0m\u001b[A"
     ]
    },
    {
     "name": "stdout",
     "output_type": "stream",
     "text": [
      "Loading preprocessed EEG data ...\n",
      "\n",
      "Creating epochs...\n",
      "\n",
      "This recording is only eyes open or eyes closed.\n"
     ]
    },
    {
     "name": "stderr",
     "output_type": "stream",
     "text": [
      " 20%|\u001b[36m█████████                                    \u001b[0m\n",
      "\n",
      "\n",
      "\u001b[A\u001b[A                                            \n",
      "\u001b[A                                               \n",
      "\n",
      " 25%|\u001b[36m███████████▎                                 \u001b[0m\u001b[A\u001b[A\n",
      " 12%|\u001b[36m█████▋                                       \u001b[0m\u001b[A\n",
      "\n",
      " 38%|\u001b[36m████████████████▉                            \u001b[0m\u001b[A\u001b[A\n",
      "\n",
      "\u001b[A\u001b[A                                            \n",
      "\u001b[A                                               \n",
      "\n",
      " 38%|\u001b[36m████████████████▉                            \u001b[0m\u001b[A\u001b[A\n",
      " 12%|\u001b[36m█████▋                                       \u001b[0m\u001b[A"
     ]
    },
    {
     "name": "stdout",
     "output_type": "stream",
     "text": [
      "Loading MRI information of Freesurfer template subject ...\n",
      "\n",
      "Computing forward solution ...\n",
      "\n"
     ]
    },
    {
     "name": "stderr",
     "output_type": "stream",
     "text": [
      "\n",
      "\n",
      "\u001b[A\u001b[A                                            \n",
      "\u001b[A                                               \n",
      "\n",
      " 50%|\u001b[36m██████████████████████▌                      \u001b[0m\u001b[A\u001b[A\n",
      " 12%|\u001b[36m█████▋                                       \u001b[0m\u001b[A\n",
      "\n",
      " 62%|\u001b[36m████████████████████████████▏                \u001b[0m\u001b[A\u001b[A\n",
      "\n",
      "\u001b[A\u001b[A                                            \n",
      "\u001b[A                                               \n",
      "\n",
      " 62%|\u001b[36m████████████████████████████▏                \u001b[0m\u001b[A\u001b[A\n",
      " 12%|\u001b[36m█████▋                                       \u001b[0m\u001b[A"
     ]
    },
    {
     "name": "stdout",
     "output_type": "stream",
     "text": [
      "Using ad hoc noise covariance for the recording ...\n",
      "\n",
      "Computing the minimum-norm inverse solution ...\n",
      "\n"
     ]
    },
    {
     "name": "stderr",
     "output_type": "stream",
     "text": [
      "\n",
      "\n",
      "\u001b[A\u001b[A                                            \n",
      "\u001b[A                                               \n",
      "\n",
      " 75%|\u001b[36m█████████████████████████████████▊           \u001b[0m\u001b[A\u001b[A\n",
      " 12%|\u001b[36m█████▋                                       \u001b[0m\u001b[A\n",
      "\n",
      " 88%|\u001b[36m███████████████████████████████████████▍     \u001b[0m\u001b[A\u001b[A"
     ]
    },
    {
     "name": "stdout",
     "output_type": "stream",
     "text": [
      "Creating report...\n",
      "\n",
      "True\n",
      "True\n"
     ]
    },
    {
     "name": "stderr",
     "output_type": "stream",
     "text": [
      "\n",
      "\n",
      "\u001b[A\u001b[A                                            \n",
      "\u001b[A                                               \n",
      "\n",
      " 88%|\u001b[36m███████████████████████████████████████▍     \u001b[0m\u001b[A\u001b[A\n",
      " 12%|\u001b[36m█████▋                                       \u001b[0m\u001b[A\n",
      "\n",
      "100%|\u001b[36m█████████████████████████████████████████████\u001b[0m\u001b[A\u001b[A"
     ]
    },
    {
     "name": "stdout",
     "output_type": "stream",
     "text": [
      "\u001b[32mAnalysis finished successfully!\n",
      "\n"
     ]
    },
    {
     "name": "stderr",
     "output_type": "stream",
     "text": [
      "\n"
     ]
    }
   ],
   "source": [
    "%matplotlib qt\n",
    "from eeg_processing import run_rs_analysis\n",
    "run_rs_analysis(\n",
    "        subject_id=subject_id,\n",
    "        subjects_dir=subjects_dir,\n",
    "        visit='',\n",
    "        event_ids=None,\n",
    "        source_analysis=True,\n",
    "        mri=False,\n",
    "        subjects_fs_dir=None,\n",
    "        manual_data_scroll=True,\n",
    "        automatic_epoch_rejection=False,\n",
    "        create_report=True,\n",
    "        saving_dir=None,\n",
    "        verbose=\"ERROR\",\n",
    "        overwrite=True\n",
    "        )"
   ]
  },
  {
   "cell_type": "code",
   "execution_count": 9,
   "metadata": {},
   "outputs": [
    {
     "name": "stderr",
     "output_type": "stream",
     "text": [
      "                                                       \u001b[0m\n",
      "  0%|\u001b[36m                                             \u001b[0m\n",
      "                                                       \u001b[0m\u001b[A\n",
      " 11%|\u001b[36m█████                                        \u001b[0m\n",
      " 12%|\u001b[36m█████▋                                       \u001b[0m\u001b[A"
     ]
    },
    {
     "name": "stdout",
     "output_type": "stream",
     "text": [
      "Loading preprocessed EEG data ...\n",
      "\n",
      "Creating epochs...\n",
      "\n"
     ]
    },
    {
     "ename": "ValueError",
     "evalue": "max() iterable argument is empty",
     "output_type": "error",
     "traceback": [
      "\u001b[31m---------------------------------------------------------------------------\u001b[39m",
      "\u001b[31mValueError\u001b[39m                                Traceback (most recent call last)",
      "\u001b[36mCell\u001b[39m\u001b[36m \u001b[39m\u001b[32mIn[9]\u001b[39m\u001b[32m, line 3\u001b[39m\n\u001b[32m      1\u001b[39m get_ipython().run_line_magic(\u001b[33m'\u001b[39m\u001b[33mmatplotlib\u001b[39m\u001b[33m'\u001b[39m, \u001b[33m'\u001b[39m\u001b[33mqt\u001b[39m\u001b[33m'\u001b[39m)\n\u001b[32m      2\u001b[39m \u001b[38;5;28;01mfrom\u001b[39;00m\u001b[38;5;250m \u001b[39m\u001b[34;01meeg_processing\u001b[39;00m\u001b[38;5;250m \u001b[39m\u001b[38;5;28;01mimport\u001b[39;00m run_erp_analysis\n\u001b[32m----> \u001b[39m\u001b[32m3\u001b[39m \u001b[43mrun_erp_analysis\u001b[49m\u001b[43m(\u001b[49m\n\u001b[32m      4\u001b[39m \u001b[43m        \u001b[49m\u001b[43msubject_id\u001b[49m\u001b[43m=\u001b[49m\u001b[43msubject_id\u001b[49m\u001b[43m,\u001b[49m\n\u001b[32m      5\u001b[39m \u001b[43m        \u001b[49m\u001b[43msubjects_dir\u001b[49m\u001b[43m=\u001b[49m\u001b[43msubjects_dir\u001b[49m\u001b[43m,\u001b[49m\n\u001b[32m      6\u001b[39m \u001b[43m        \u001b[49m\u001b[43mparadigm\u001b[49m\u001b[43m=\u001b[49m\u001b[43mparadigm\u001b[49m\u001b[43m,\u001b[49m\n\u001b[32m      7\u001b[39m \u001b[43m        \u001b[49m\u001b[43mevents\u001b[49m\u001b[43m=\u001b[49m\u001b[38;5;28;43;01mNone\u001b[39;49;00m\u001b[43m,\u001b[49m\n\u001b[32m      8\u001b[39m \u001b[43m        \u001b[49m\u001b[43msource_analysis\u001b[49m\u001b[43m=\u001b[49m\u001b[38;5;28;43;01mTrue\u001b[39;49;00m\u001b[43m,\u001b[49m\n\u001b[32m      9\u001b[39m \u001b[43m        \u001b[49m\u001b[43mmri\u001b[49m\u001b[43m=\u001b[49m\u001b[38;5;28;43;01mFalse\u001b[39;49;00m\u001b[43m,\u001b[49m\n\u001b[32m     10\u001b[39m \u001b[43m        \u001b[49m\u001b[43msubjects_fs_dir\u001b[49m\u001b[43m=\u001b[49m\u001b[38;5;28;43;01mNone\u001b[39;49;00m\u001b[43m,\u001b[49m\n\u001b[32m     11\u001b[39m \u001b[43m        \u001b[49m\u001b[43mmanual_data_scroll\u001b[49m\u001b[43m=\u001b[49m\u001b[38;5;28;43;01mTrue\u001b[39;49;00m\u001b[43m,\u001b[49m\n\u001b[32m     12\u001b[39m \u001b[43m        \u001b[49m\u001b[43mautomatic_epoch_rejection\u001b[49m\u001b[43m=\u001b[49m\u001b[38;5;28;43;01mFalse\u001b[39;49;00m\u001b[43m,\u001b[49m\n\u001b[32m     13\u001b[39m \u001b[43m        \u001b[49m\u001b[43mcreate_report\u001b[49m\u001b[43m=\u001b[49m\u001b[38;5;28;43;01mTrue\u001b[39;49;00m\u001b[43m,\u001b[49m\n\u001b[32m     14\u001b[39m \u001b[43m        \u001b[49m\u001b[43msaving_dir\u001b[49m\u001b[43m=\u001b[49m\u001b[38;5;28;43;01mNone\u001b[39;49;00m\u001b[43m,\u001b[49m\n\u001b[32m     15\u001b[39m \u001b[43m        \u001b[49m\u001b[43mverbose\u001b[49m\u001b[43m=\u001b[49m\u001b[33;43m\"\u001b[39;49m\u001b[33;43mERROR\u001b[39;49m\u001b[33;43m\"\u001b[39;49m\n\u001b[32m     16\u001b[39m \u001b[43m        \u001b[49m\u001b[43m)\u001b[49m\n",
      "\u001b[36mFile \u001b[39m\u001b[32m~/Tinnitus/Antinomics/eeg/eeg_processing.py:445\u001b[39m, in \u001b[36mrun_erp_analysis\u001b[39m\u001b[34m(subject_id, subjects_dir, paradigm, source_analysis, events, mri, precomute_inv, subjects_fs_dir, manual_data_scroll, automatic_epoch_rejection, create_report, saving_dir, verbose)\u001b[39m\n\u001b[32m    443\u001b[39m tqdm.write(\u001b[33m\"\u001b[39m\u001b[33mCreating epochs...\u001b[39m\u001b[38;5;130;01m\\n\u001b[39;00m\u001b[33m\"\u001b[39m)\n\u001b[32m    444\u001b[39m progress.update(\u001b[32m1\u001b[39m)\n\u001b[32m--> \u001b[39m\u001b[32m445\u001b[39m epochs = \u001b[43mEpochs\u001b[49m\u001b[43m(\u001b[49m\u001b[43mraw\u001b[49m\u001b[43m=\u001b[49m\u001b[43mraw\u001b[49m\u001b[43m,\u001b[49m\n\u001b[32m    446\u001b[39m \u001b[43m                \u001b[49m\u001b[43mevents\u001b[49m\u001b[43m=\u001b[49m\u001b[43mevents\u001b[49m\u001b[43m,\u001b[49m\n\u001b[32m    447\u001b[39m \u001b[43m                \u001b[49m\u001b[43mevent_id\u001b[49m\u001b[43m=\u001b[49m\u001b[43mevent_ids\u001b[49m\u001b[43m,\u001b[49m\n\u001b[32m    448\u001b[39m \u001b[43m                \u001b[49m\u001b[43mtmin\u001b[49m\u001b[43m=\u001b[49m\u001b[43m-\u001b[49m\u001b[32;43m0.2\u001b[39;49m\u001b[43m,\u001b[49m\n\u001b[32m    449\u001b[39m \u001b[43m                \u001b[49m\u001b[43mtmax\u001b[49m\u001b[43m=\u001b[49m\u001b[32;43m0.5\u001b[39;49m\u001b[43m,\u001b[49m\n\u001b[32m    450\u001b[39m \u001b[43m                \u001b[49m\u001b[43mreject_by_annotation\u001b[49m\u001b[43m=\u001b[49m\u001b[38;5;28;43;01mTrue\u001b[39;49;00m\u001b[43m,\u001b[49m\n\u001b[32m    451\u001b[39m \u001b[43m                \u001b[49m\u001b[43mbaseline\u001b[49m\u001b[43m=\u001b[49m\u001b[43mbaseline\u001b[49m\n\u001b[32m    452\u001b[39m \u001b[43m                \u001b[49m\u001b[43m)\u001b[49m\n\u001b[32m    453\u001b[39m \u001b[38;5;28;01mdel\u001b[39;00m raw\n\u001b[32m    455\u001b[39m \u001b[38;5;66;03m## check manual_data_scroll\u001b[39;00m\n",
      "\u001b[36mFile \u001b[39m\u001b[32m<decorator-gen-228>:12\u001b[39m, in \u001b[36m__init__\u001b[39m\u001b[34m(self, raw, events, event_id, tmin, tmax, baseline, picks, preload, reject, flat, proj, decim, reject_tmin, reject_tmax, detrend, on_missing, reject_by_annotation, metadata, event_repeated, verbose)\u001b[39m\n",
      "\u001b[36mFile \u001b[39m\u001b[32m~/Tinnitus/Antinomics/eeg/venv/lib/python3.12/site-packages/mne/epochs.py:3580\u001b[39m, in \u001b[36mEpochs.__init__\u001b[39m\u001b[34m(self, raw, events, event_id, tmin, tmax, baseline, picks, preload, reject, flat, proj, decim, reject_tmin, reject_tmax, detrend, on_missing, reject_by_annotation, metadata, event_repeated, verbose)\u001b[39m\n\u001b[32m   3575\u001b[39m     events, event_id, annotations = _events_from_annotations(\n\u001b[32m   3576\u001b[39m         raw, events, event_id, annotations, on_missing\n\u001b[32m   3577\u001b[39m     )\n\u001b[32m   3579\u001b[39m \u001b[38;5;66;03m# call BaseEpochs constructor\u001b[39;00m\n\u001b[32m-> \u001b[39m\u001b[32m3580\u001b[39m \u001b[38;5;28;43msuper\u001b[39;49m\u001b[43m(\u001b[49m\u001b[43m)\u001b[49m\u001b[43m.\u001b[49m\u001b[34;43m__init__\u001b[39;49m\u001b[43m(\u001b[49m\n\u001b[32m   3581\u001b[39m \u001b[43m    \u001b[49m\u001b[43minfo\u001b[49m\u001b[43m,\u001b[49m\n\u001b[32m   3582\u001b[39m \u001b[43m    \u001b[49m\u001b[38;5;28;43;01mNone\u001b[39;49;00m\u001b[43m,\u001b[49m\n\u001b[32m   3583\u001b[39m \u001b[43m    \u001b[49m\u001b[43mevents\u001b[49m\u001b[43m,\u001b[49m\n\u001b[32m   3584\u001b[39m \u001b[43m    \u001b[49m\u001b[43mevent_id\u001b[49m\u001b[43m,\u001b[49m\n\u001b[32m   3585\u001b[39m \u001b[43m    \u001b[49m\u001b[43mtmin\u001b[49m\u001b[43m,\u001b[49m\n\u001b[32m   3586\u001b[39m \u001b[43m    \u001b[49m\u001b[43mtmax\u001b[49m\u001b[43m,\u001b[49m\n\u001b[32m   3587\u001b[39m \u001b[43m    \u001b[49m\u001b[43mmetadata\u001b[49m\u001b[43m=\u001b[49m\u001b[43mmetadata\u001b[49m\u001b[43m,\u001b[49m\n\u001b[32m   3588\u001b[39m \u001b[43m    \u001b[49m\u001b[43mbaseline\u001b[49m\u001b[43m=\u001b[49m\u001b[43mbaseline\u001b[49m\u001b[43m,\u001b[49m\n\u001b[32m   3589\u001b[39m \u001b[43m    \u001b[49m\u001b[43mraw\u001b[49m\u001b[43m=\u001b[49m\u001b[43mraw\u001b[49m\u001b[43m,\u001b[49m\n\u001b[32m   3590\u001b[39m \u001b[43m    \u001b[49m\u001b[43mpicks\u001b[49m\u001b[43m=\u001b[49m\u001b[43mpicks\u001b[49m\u001b[43m,\u001b[49m\n\u001b[32m   3591\u001b[39m \u001b[43m    \u001b[49m\u001b[43mreject\u001b[49m\u001b[43m=\u001b[49m\u001b[43mreject\u001b[49m\u001b[43m,\u001b[49m\n\u001b[32m   3592\u001b[39m \u001b[43m    \u001b[49m\u001b[43mflat\u001b[49m\u001b[43m=\u001b[49m\u001b[43mflat\u001b[49m\u001b[43m,\u001b[49m\n\u001b[32m   3593\u001b[39m \u001b[43m    \u001b[49m\u001b[43mdecim\u001b[49m\u001b[43m=\u001b[49m\u001b[43mdecim\u001b[49m\u001b[43m,\u001b[49m\n\u001b[32m   3594\u001b[39m \u001b[43m    \u001b[49m\u001b[43mreject_tmin\u001b[49m\u001b[43m=\u001b[49m\u001b[43mreject_tmin\u001b[49m\u001b[43m,\u001b[49m\n\u001b[32m   3595\u001b[39m \u001b[43m    \u001b[49m\u001b[43mreject_tmax\u001b[49m\u001b[43m=\u001b[49m\u001b[43mreject_tmax\u001b[49m\u001b[43m,\u001b[49m\n\u001b[32m   3596\u001b[39m \u001b[43m    \u001b[49m\u001b[43mdetrend\u001b[49m\u001b[43m=\u001b[49m\u001b[43mdetrend\u001b[49m\u001b[43m,\u001b[49m\n\u001b[32m   3597\u001b[39m \u001b[43m    \u001b[49m\u001b[43mproj\u001b[49m\u001b[43m=\u001b[49m\u001b[43mproj\u001b[49m\u001b[43m,\u001b[49m\n\u001b[32m   3598\u001b[39m \u001b[43m    \u001b[49m\u001b[43mon_missing\u001b[49m\u001b[43m=\u001b[49m\u001b[43mon_missing\u001b[49m\u001b[43m,\u001b[49m\n\u001b[32m   3599\u001b[39m \u001b[43m    \u001b[49m\u001b[43mpreload_at_end\u001b[49m\u001b[43m=\u001b[49m\u001b[43mpreload\u001b[49m\u001b[43m,\u001b[49m\n\u001b[32m   3600\u001b[39m \u001b[43m    \u001b[49m\u001b[43mevent_repeated\u001b[49m\u001b[43m=\u001b[49m\u001b[43mevent_repeated\u001b[49m\u001b[43m,\u001b[49m\n\u001b[32m   3601\u001b[39m \u001b[43m    \u001b[49m\u001b[43mverbose\u001b[49m\u001b[43m=\u001b[49m\u001b[43mverbose\u001b[49m\u001b[43m,\u001b[49m\n\u001b[32m   3602\u001b[39m \u001b[43m    \u001b[49m\u001b[43mraw_sfreq\u001b[49m\u001b[43m=\u001b[49m\u001b[43mraw_sfreq\u001b[49m\u001b[43m,\u001b[49m\n\u001b[32m   3603\u001b[39m \u001b[43m    \u001b[49m\u001b[43mannotations\u001b[49m\u001b[43m=\u001b[49m\u001b[43mannotations\u001b[49m\u001b[43m,\u001b[49m\n\u001b[32m   3604\u001b[39m \u001b[43m\u001b[49m\u001b[43m)\u001b[49m\n",
      "\u001b[36mFile \u001b[39m\u001b[32m<decorator-gen-212>:12\u001b[39m, in \u001b[36m__init__\u001b[39m\u001b[34m(self, info, data, events, event_id, tmin, tmax, baseline, raw, picks, reject, flat, decim, reject_tmin, reject_tmax, detrend, proj, on_missing, preload_at_end, selection, drop_log, filename, metadata, event_repeated, raw_sfreq, annotations, verbose)\u001b[39m\n",
      "\u001b[36mFile \u001b[39m\u001b[32m~/Tinnitus/Antinomics/eeg/venv/lib/python3.12/site-packages/mne/epochs.py:517\u001b[39m, in \u001b[36mBaseEpochs.__init__\u001b[39m\u001b[34m(***failed resolving arguments***)\u001b[39m\n\u001b[32m    513\u001b[39m \u001b[38;5;28mself\u001b[39m.selection = selection\n\u001b[32m    514\u001b[39m \u001b[38;5;28;01mif\u001b[39;00m drop_log \u001b[38;5;129;01mis\u001b[39;00m \u001b[38;5;28;01mNone\u001b[39;00m:\n\u001b[32m    515\u001b[39m     \u001b[38;5;28mself\u001b[39m.drop_log = \u001b[38;5;28mtuple\u001b[39m(\n\u001b[32m    516\u001b[39m         () \u001b[38;5;28;01mif\u001b[39;00m k \u001b[38;5;129;01min\u001b[39;00m \u001b[38;5;28mself\u001b[39m.selection \u001b[38;5;28;01melse\u001b[39;00m (\u001b[33m\"\u001b[39m\u001b[33mIGNORED\u001b[39m\u001b[33m\"\u001b[39m,)\n\u001b[32m--> \u001b[39m\u001b[32m517\u001b[39m         \u001b[38;5;28;01mfor\u001b[39;00m k \u001b[38;5;129;01min\u001b[39;00m \u001b[38;5;28mrange\u001b[39m(\u001b[38;5;28mmax\u001b[39m(\u001b[38;5;28mlen\u001b[39m(\u001b[38;5;28mself\u001b[39m.events), \u001b[38;5;28;43mmax\u001b[39;49m\u001b[43m(\u001b[49m\u001b[38;5;28;43mself\u001b[39;49m\u001b[43m.\u001b[49m\u001b[43mselection\u001b[49m\u001b[43m)\u001b[49m + \u001b[32m1\u001b[39m))\n\u001b[32m    518\u001b[39m     )\n\u001b[32m    519\u001b[39m \u001b[38;5;28;01melse\u001b[39;00m:\n\u001b[32m    520\u001b[39m     \u001b[38;5;28mself\u001b[39m.drop_log = drop_log\n",
      "\u001b[31mValueError\u001b[39m: max() iterable argument is empty"
     ]
    }
   ],
   "source": [
    "%matplotlib qt\n",
    "from eeg_processing import run_erp_analysis\n",
    "run_erp_analysis(\n",
    "        subject_id=subject_id,\n",
    "        subjects_dir=subjects_dir,\n",
    "        paradigm=paradigm,\n",
    "        events=None,\n",
    "        source_analysis=True,\n",
    "        mri=False,\n",
    "        subjects_fs_dir=None,\n",
    "        manual_data_scroll=True,\n",
    "        automatic_epoch_rejection=False,\n",
    "        create_report=True,\n",
    "        saving_dir=None,\n",
    "        verbose=\"ERROR\"\n",
    "        )"
   ]
  },
  {
   "cell_type": "markdown",
   "metadata": {},
   "source": [
    "Eyetracking"
   ]
  },
  {
   "cell_type": "code",
   "execution_count": null,
   "metadata": {},
   "outputs": [],
   "source": [
    "from mne.io import read_raw_brainvision, read_raw_eyelink\n",
    "from mne import events_from_annotations\n",
    "from mne.preprocessing import realign_raw\n",
    "\n",
    "\n",
    "## load\n",
    "fname_eeg = \"/Users/payamsadeghishabestari/Downloads/alertness_01_H036.vhdr\"\n",
    "fname_et = \"/Users/payamsadeghishabestari/Downloads/local_al1H036.asc\"\n",
    "\n",
    "raw_eeg = read_raw_brainvision(fname_eeg, preload=True)\n",
    "raw_eye = read_raw_eyelink(fname=fname_et, create_annotations=True) \n",
    "events_eeg, event_ids_eeg = events_from_annotations(raw_eeg)\n",
    "events_eye, event_ids_eye = events_from_annotations(raw_eye)\n",
    "\n",
    "## for now\n",
    "stim_id_eeg_1, stim_id_eeg_2 = 8, 9\n",
    "stim_id_eye_1, stim_id_eye_2 = 4, 5\n",
    "\n",
    "s_raw = events_eeg[(events_eeg[:,2] == stim_id_eeg_1) | (events_eeg[:,2] == stim_id_eeg_2)][:, 0]\n",
    "s_other = events_eye[(events_eye[:,2] == stim_id_eye_1) | (events_eye[:,2] == stim_id_eye_2)][:, 0]\n",
    "\n",
    "## realigning\n",
    "realign_raw(raw=raw_eeg,\n",
    "            other=raw_eye,\n",
    "            t_raw=s_raw / raw_eeg.info[\"sfreq\"] - raw_eeg.first_time,\n",
    "            t_other=s_other / raw_eye.info[\"sfreq\"] - raw_eye.first_time,\n",
    "            verbose=None)\n",
    "\n",
    "raw_eye.add_channels([raw_eeg], force_update_info=True)\n",
    "events, event_dict = events_from_annotations(raw_eye)\n",
    "del raw_eeg  "
   ]
  },
  {
   "cell_type": "code",
   "execution_count": null,
   "metadata": {},
   "outputs": [],
   "source": [
    "raw_eye.plot()"
   ]
  },
  {
   "cell_type": "markdown",
   "metadata": {},
   "source": [
    "Lets see what is regularity"
   ]
  },
  {
   "cell_type": "code",
   "execution_count": null,
   "metadata": {},
   "outputs": [],
   "source": [
    "import mne"
   ]
  },
  {
   "cell_type": "code",
   "execution_count": null,
   "metadata": {},
   "outputs": [],
   "source": [
    "fname = \"/Users/payamsadeghishabestari/antinomics_clean_codes/subjects/dvob/EEG/regularity/dvob_regularity.vhdr\"\n",
    "raw = mne.io.read_raw_brainvision(fname, preload=True)\n",
    "raw.resample(250)"
   ]
  },
  {
   "cell_type": "code",
   "execution_count": null,
   "metadata": {},
   "outputs": [],
   "source": [
    "events, events_dict = mne.events_from_annotations(raw)"
   ]
  },
  {
   "cell_type": "code",
   "execution_count": null,
   "metadata": {},
   "outputs": [],
   "source": [
    "import mne\n",
    "epochs_fnames = [\"/Users/payamsadeghishabestari/antinomics_clean_codes/subjects/zdfy/EEG/rest_v1/epochs-eo-epo.fif\",\n",
    "                \"/Users/payamsadeghishabestari/antinomics_clean_codes/subjects/zdfy/EEG/rest_v1/epochs-ec-epo.fif\"]\n",
    "\n",
    "epochs, eye_labels = [], []\n",
    "for ep_fname, title in zip(epochs_fnames, [\"open\", \"close\"]):\n",
    "    eps = mne.read_epochs(ep_fname, preload=True)\n",
    "    eps.drop_bad()\n",
    "    epochs.append(eps)\n",
    "    eye_labels += len(eps) * [title]"
   ]
  },
  {
   "cell_type": "code",
   "execution_count": null,
   "metadata": {},
   "outputs": [],
   "source": [
    "epochs = mne.concatenate_epochs(epochs)"
   ]
  },
  {
   "cell_type": "code",
   "execution_count": null,
   "metadata": {},
   "outputs": [],
   "source": [
    "import numpy as np\n",
    "import mne_features"
   ]
  },
  {
   "cell_type": "code",
   "execution_count": null,
   "metadata": {},
   "outputs": [],
   "source": [
    "def compute_sensor_band_power(epochs):\n",
    "    \"\"\"\n",
    "    \"\"\"\n",
    "    freq_bands = {\n",
    "                    \"delta\": (0.5, 4),\n",
    "                    \"theta\": (4, 8),\n",
    "                    \"alpha\": (8, 13),\n",
    "                    \"beta\": (13, 30),\n",
    "                    \"lower_gamma\": (30, 45),\n",
    "                    \"upper_gamma\": (45, 80)\n",
    "                    }\n",
    "    \n",
    "    psds, freqs = epochs.compute_psd(method=\"multitaper\",\n",
    "                                    picks=\"eeg\",\n",
    "                                    fmin=freq_bands[\"delta\"][0],\n",
    "                                    fmax=freq_bands[\"upper_gamma\"][1],\n",
    "                                    ).get_data(return_freqs=True)\n",
    "    psds /= np.sum(psds, axis=-1, keepdims=True)  # normalize the PSDs\n",
    "    ep_psds = []\n",
    "    for fmin, fmax in freq_bands.values():\n",
    "        psds_band = psds[:, :, (freqs >= fmin) & (freqs < fmax)].mean(axis=-1)\n",
    "        ep_psds.append(psds_band)\n",
    "    \n",
    "\n",
    "    return np.array(ep_psds).transpose(1, 2, 0)"
   ]
  },
  {
   "cell_type": "code",
   "execution_count": null,
   "metadata": {},
   "outputs": [],
   "source": [
    "freq_bands = {\n",
    "                \"delta\": (0.5, 4),\n",
    "                \"theta\": (4, 8),\n",
    "                \"alpha\": (8, 13),\n",
    "                \"beta\": (13, 30),\n",
    "                \"lower_gamma\": (30, 45),\n",
    "                \"upper_gamma\": (45, 80)\n",
    "                }\n",
    "\n",
    "\n",
    "\n",
    "epochs.pick(\"eeg\")\n",
    "funcs_params = {\n",
    "                    \"pow_freq_bands__freq_bands\": freq_bands,\n",
    "                    \"pow_freq_bands__psd_method\": \"multitaper\",\n",
    "                    \"pow_freq_bands__normalize\": True\n",
    "                    } \n",
    "\n",
    "powers = mne_features.feature_extraction.extract_features(epochs.get_data(),\n",
    "                                                epochs.info[\"sfreq\"],\n",
    "                                                selected_funcs=[\"pow_freq_bands\"],\n",
    "                                                funcs_params=funcs_params,\n",
    "                                                ch_names=epochs.info[\"ch_names\"]\n",
    "                                                )"
   ]
  },
  {
   "cell_type": "code",
   "execution_count": null,
   "metadata": {},
   "outputs": [],
   "source": [
    "n_chs = len(epochs.info[\"ch_names\"])\n",
    "n_freq_bands = len(freq_bands.keys())\n",
    "powers_reshaped = powers.reshape(len(epochs), n_chs, n_freq_bands)"
   ]
  },
  {
   "cell_type": "code",
   "execution_count": null,
   "metadata": {},
   "outputs": [],
   "source": [
    "columns = [f\"ch_{j}_freq_{k}\" for j in epochs.info[\"ch_names\"] for k in freq_bands]"
   ]
  },
  {
   "cell_type": "code",
   "execution_count": null,
   "metadata": {},
   "outputs": [],
   "source": [
    "df = pd.DataFrame(powers_reshaped, columns=columns)"
   ]
  },
  {
   "cell_type": "code",
   "execution_count": null,
   "metadata": {},
   "outputs": [],
   "source": [
    "hurst = mne_features.feature_extraction.extract_features(epochs.get_data(),\n",
    "                                                epochs.info[\"sfreq\"],\n",
    "                                                selected_funcs=[\"spect_slope\"],\n",
    "                                                funcs_params=None,\n",
    "                                                ch_names=epochs.info[\"ch_names\"]\n",
    "                                                )"
   ]
  },
  {
   "cell_type": "code",
   "execution_count": null,
   "metadata": {},
   "outputs": [],
   "source": [
    "y = hurst.reshape(len(epochs), n_chs, 4)[:,:,:2] # intercept and slope"
   ]
  },
  {
   "cell_type": "code",
   "execution_count": null,
   "metadata": {},
   "outputs": [],
   "source": [
    "y.shape"
   ]
  },
  {
   "cell_type": "code",
   "execution_count": null,
   "metadata": {},
   "outputs": [],
   "source": [
    "x = hurst.reshape(len(epochs), n_chs, 4)[:,:,:2]"
   ]
  },
  {
   "cell_type": "code",
   "execution_count": null,
   "metadata": {},
   "outputs": [],
   "source": [
    "x = x.reshape(257, 118)"
   ]
  },
  {
   "cell_type": "code",
   "execution_count": null,
   "metadata": {},
   "outputs": [],
   "source": [
    "x == hurst[:, :118]"
   ]
  },
  {
   "cell_type": "code",
   "execution_count": null,
   "metadata": {},
   "outputs": [],
   "source": [
    "freq_bands = {\n",
    "            \"delta\": (0.5, 4),\n",
    "            \"theta\": (4, 8),\n",
    "            \"alpha\": (8, 13),\n",
    "            \"beta\": (13, 30),\n",
    "            \"lower_gamma\": (30, 45),\n",
    "            \"upper_gamma\": (45, 80)\n",
    "            }\n",
    "\n",
    "psds, freqs = epochs.compute_psd(method=\"multitaper\",\n",
    "                                    picks=\"eeg\",\n",
    "                                    fmin=freq_bands[\"delta\"][0],\n",
    "                                    fmax=freq_bands[\"upper_gamma\"][1],\n",
    "                                    ).get_data(return_freqs=True)"
   ]
  },
  {
   "cell_type": "code",
   "execution_count": null,
   "metadata": {},
   "outputs": [],
   "source": [
    "psds.shape"
   ]
  },
  {
   "cell_type": "code",
   "execution_count": null,
   "metadata": {},
   "outputs": [],
   "source": [
    "X"
   ]
  }
 ],
 "metadata": {
  "kernelspec": {
   "display_name": "Antinomics",
   "language": "python",
   "name": "antinomics"
  },
  "language_info": {
   "codemirror_mode": {
    "name": "ipython",
    "version": 3
   },
   "file_extension": ".py",
   "mimetype": "text/x-python",
   "name": "python",
   "nbconvert_exporter": "python",
   "pygments_lexer": "ipython3",
   "version": "3.12.3"
  }
 },
 "nbformat": 4,
 "nbformat_minor": 4
}
