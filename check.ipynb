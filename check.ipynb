{
 "cells": [
  {
   "cell_type": "code",
   "execution_count": null,
   "metadata": {},
   "outputs": [],
   "source": [
    "%matplotlib qt\n",
    "import os\n",
    "from pathlib import Path\n",
    "import matplotlib.pyplot as plt\n",
    "from tqdm import tqdm\n",
    "from mne.io import read_raw_brainvision, read_raw_fif\n",
    "\n",
    "from scipy.signal import find_peaks\n",
    "import numpy as np\n",
    "from mne.channels import read_dig_captrak, make_standard_montage\n",
    "from mne.preprocessing import ICA\n",
    "from mne_icalabel import label_components\n",
    "import customtkinter as ctk\n",
    "from mne.coreg import Coregistration\n",
    "from mne import (open_report, events_from_annotations, Epochs, write_trans,\n",
    "                setup_source_space, make_bem_model, make_bem_solution, make_forward_solution, compute_covariance,\n",
    "                extract_label_time_course, read_labels_from_annot)\n",
    "from mne.minimum_norm import make_inverse_operator, apply_inverse\n",
    "from mne.datasets import fetch_fsaverage\n",
    "from scipy.signal import find_peaks\n",
    "import warnings\n",
    "from mne.preprocessing import ICA, EOGRegression, create_eog_epochs, create_ecg_epochs, compute_proj_ecg, compute_proj_eog, EOGRegression"
   ]
  },
  {
   "cell_type": "code",
   "execution_count": null,
   "metadata": {},
   "outputs": [
    {
     "data": {
      "text/latex": [
       "##### for preprocessing()\n",
       "## ask philip where is PO7, PO8, O1 and O2 and adjust it here\n",
       "## put these cahnnels as misc and see what we can do with it\n",
       "## kernel crash when running ctk\n",
       "## ssp for ecg (pulse)\n",
       "## ssp for vertical eye\n",
       "## regression for horizontal eye\n",
       "## .load_data()\n",
       "## add teas\n",
       "## GSR, X, Y, Y drop\n",
       "## rename y-axis in pulse plot maybe *1e9 and time shows\n",
       "## mne.preprocessing.annotate_break\n",
       "## interpolate bads (mne.preprocessing.find_bad_channels_lof)\n",
       "\n",
       "\n",
       "\n",
       "##### for run_analysis()\n",
       "## in gpias dont do baselining\n",
       "## double check with repo codes\n",
       "## ask gpias triggers code\n",
       "## documenatiaion\n",
       "## \n"
      ],
      "text/plain": [
       "<IPython.core.display.Latex object>"
      ]
     },
     "metadata": {},
     "output_type": "display_data"
    }
   ],
   "source": [
    "%%latex\n",
    "##### for preprocessing()\n",
    "## ask philip where is PO7, PO8, O1 and O2 and adjust it here\n",
    "## put these cahnnels as misc and see what we can do with it\n",
    "## kernel crash when running ctk\n",
    "## ssp for ecg (pulse)\n",
    "## ssp for vertical eye\n",
    "## regression for horizontal eye\n",
    "## .load_data()\n",
    "## add teas\n",
    "## GSR, X, Y, Y drop\n",
    "## rename y-axis in pulse plot maybe *1e9 and time shows\n",
    "## mne.preprocessing.annotate_break\n",
    "## interpolate bads (mne.preprocessing.find_bad_channels_lof)\n",
    "\n",
    "\n",
    "\n",
    "##### for run_analysis()\n",
    "## in gpias dont do baselining\n",
    "## double check with repo codes\n",
    "## ask gpias triggers code\n",
    "## documenatiaion\n",
    "## "
   ]
  },
  {
   "cell_type": "code",
   "execution_count": null,
   "metadata": {},
   "outputs": [],
   "source": [
    "x = \"/Volumes/Extreme SSD/payam_data/antinomics_data\"\n",
    "from pathlib import Path\n",
    "x= Path(x)"
   ]
  },
  {
   "cell_type": "code",
   "execution_count": 4,
   "metadata": {},
   "outputs": [],
   "source": [
    "# This is a purely internal Zurich function and not needed anymore.\n",
    "#from files_prepration import create_subjects_dir\n",
    "\n",
    "#subject_id = \"xrtt\"\n",
    "#create_subjects_dir(subject_id=subject_id,\n",
    "#                        raws_dir=\"/Volumes/G_USZ_ORL$/Research/ANTINOMICS/data\",\n",
    "#                        subjects_dir=\"/Volumes/Extreme SSD/payam_data/antinomics_data\",\n",
    "#                        skip_list=[\"gpias\", \"xxxxx\", \"xxxxy\", \"omi\"])"
   ]
  },
  {
   "cell_type": "code",
   "execution_count": null,
   "metadata": {},
   "outputs": [],
   "source": [
    "subjects_dir='/tmp/data_in'\n",
    "subject_id = 'con1'\n",
    "paradigm = 'rest'\n",
    "site=\"Zuerich\""
   ]
  },
  {
   "cell_type": "code",
   "execution_count": 1,
   "metadata": {},
   "outputs": [
    {
     "name": "stderr",
     "output_type": "stream",
     "text": [
      "Traceback (most recent call last):\n",
      "  File \"_pydevd_bundle\\\\pydevd_cython.pyx\", line 1609, in _pydevd_bundle.pydevd_cython.handle_exception\n",
      "  File \"/home/toedtli/Tinnitus/Anti_test/Antinomics/venv/lib/python3.10/site-packages/debugpy/_vendored/pydevd/pydevd.py\", line 2188, in do_wait_suspend\n",
      "    keep_suspended = self._do_wait_suspend(thread, frame, event, arg, trace_suspend_type, from_this_thread, frames_tracker)\n",
      "  File \"/home/toedtli/Tinnitus/Anti_test/Antinomics/venv/lib/python3.10/site-packages/debugpy/_vendored/pydevd/pydevd.py\", line 2257, in _do_wait_suspend\n",
      "    notify_event.wait(wait_timeout)\n",
      "  File \"/home/toedtli/Tinnitus/Anti_test/Antinomics/venv/lib/python3.10/threading.py\", line 607, in wait\n",
      "    signaled = self._cond.wait(timeout)\n",
      "  File \"/home/toedtli/Tinnitus/Anti_test/Antinomics/venv/lib/python3.10/threading.py\", line 324, in wait\n",
      "    gotit = waiter.acquire(True, timeout)\n",
      "KeyboardInterrupt\n"
     ]
    },
    {
     "ename": "NameError",
     "evalue": "name 'subject_id' is not defined",
     "output_type": "error",
     "traceback": [
      "\u001b[0;31m---------------------------------------------------------------------------\u001b[0m",
      "\u001b[0;31mNameError\u001b[0m                                 Traceback (most recent call last)",
      "Cell \u001b[0;32mIn[1], line 3\u001b[0m\n\u001b[1;32m      1\u001b[0m get_ipython()\u001b[38;5;241m.\u001b[39mrun_line_magic(\u001b[38;5;124m'\u001b[39m\u001b[38;5;124mmatplotlib\u001b[39m\u001b[38;5;124m'\u001b[39m, \u001b[38;5;124m'\u001b[39m\u001b[38;5;124mqt\u001b[39m\u001b[38;5;124m'\u001b[39m)\n\u001b[1;32m      2\u001b[0m \u001b[38;5;28;01mfrom\u001b[39;00m \u001b[38;5;21;01meeg\u001b[39;00m\u001b[38;5;21;01m.\u001b[39;00m\u001b[38;5;21;01meeg_preprocessing\u001b[39;00m \u001b[38;5;28;01mimport\u001b[39;00m preprocessing\n\u001b[0;32m----> 3\u001b[0m preprocessing(subject_id\u001b[38;5;241m=\u001b[39m\u001b[43msubject_id\u001b[49m,\n\u001b[1;32m      4\u001b[0m \t\t\t\tsite\u001b[38;5;241m=\u001b[39msite,\n\u001b[1;32m      5\u001b[0m                 subjects_dir\u001b[38;5;241m=\u001b[39msubjects_dir,\n\u001b[1;32m      6\u001b[0m                 paradigm\u001b[38;5;241m=\u001b[39mparadigm,\n\u001b[1;32m      7\u001b[0m                 manual_data_scroll\u001b[38;5;241m=\u001b[39m\u001b[38;5;28;01mTrue\u001b[39;00m,\n\u001b[1;32m      8\u001b[0m                 run_ica\u001b[38;5;241m=\u001b[39m\u001b[38;5;28;01mFalse\u001b[39;00m,\n\u001b[1;32m      9\u001b[0m                 manual_ica_removal\u001b[38;5;241m=\u001b[39m\u001b[38;5;28;01mFalse\u001b[39;00m,\n\u001b[1;32m     10\u001b[0m                 ssp_eog\u001b[38;5;241m=\u001b[39m\u001b[38;5;28;01mTrue\u001b[39;00m,\n\u001b[1;32m     11\u001b[0m                 ssp_ecg\u001b[38;5;241m=\u001b[39m\u001b[38;5;28;01mTrue\u001b[39;00m,\n\u001b[1;32m     12\u001b[0m                 create_report\u001b[38;5;241m=\u001b[39m\u001b[38;5;28;01mTrue\u001b[39;00m,\n\u001b[1;32m     13\u001b[0m                 saving_dir\u001b[38;5;241m=\u001b[39m\u001b[38;5;28;01mNone\u001b[39;00m,\n\u001b[1;32m     14\u001b[0m                 verbose\u001b[38;5;241m=\u001b[39m\u001b[38;5;124m\"\u001b[39m\u001b[38;5;124mERROR\u001b[39m\u001b[38;5;124m\"\u001b[39m)\n",
      "\u001b[0;31mNameError\u001b[0m: name 'subject_id' is not defined"
     ]
    }
   ],
   "source": [
    "%matplotlib qt\n",
    "from eeg.eeg_preprocessing import preprocessing\n",
    "preprocessing(subject_id=subject_id,\n",
    "\t\t\t\tsite=site,\n",
    "                subjects_dir=subjects_dir,\n",
    "                paradigm=paradigm,\n",
    "                manual_data_scroll=True,\n",
    "                run_ica=False,\n",
    "                manual_ica_removal=False,\n",
    "                ssp_eog=True,\n",
    "                ssp_ecg=True,\n",
    "                create_report=True,\n",
    "                saving_dir=None,\n",
    "                verbose=\"ERROR\")"
   ]
  },
  {
   "cell_type": "code",
   "execution_count": null,
   "metadata": {},
   "outputs": [],
   "source": [
    "%matplotlib qt\n",
    "from eeg_rs_processing import run_rs_analysis\n",
    "\n",
    "run_rs_analysis(\n",
    "        subject_id=\"zdfy\",\n",
    "        subjects_dir=\"/Users/payamsadeghishabestari/antinomics_clean_codes/subjects\",\n",
    "        visit=1,\n",
    "        event_ids=None,\n",
    "        source_analysis=True,\n",
    "        mri=False,\n",
    "        subjects_fs_dir=None,\n",
    "        manual_data_scroll=False,\n",
    "        create_report=True,\n",
    "        saving_dir=None,\n",
    "        verbose=\"ERROR\"\n",
    "        )\n"
   ]
  },
  {
   "cell_type": "code",
   "execution_count": null,
   "metadata": {},
   "outputs": [],
   "source": [
    "%matplotlib qt\n",
    "from eeg_erp_processing import run_erp_analysis\n",
    "\n",
    "run_erp_analysis(\n",
    "        subject_id=\"zdfy\",\n",
    "        subjects_dir=\"/Users/payamsadeghishabestari/antinomics_clean_codes/subjects\",\n",
    "        paradigm=\"gpias\",\n",
    "        events=None,\n",
    "        source_analysis=True,\n",
    "        mri=False,\n",
    "        subjects_fs_dir=None,\n",
    "        manual_data_scroll=False,\n",
    "        create_report=True,\n",
    "        saving_dir=None,\n",
    "        verbose=\"ERROR\"\n",
    "        )"
   ]
  },
  {
   "cell_type": "markdown",
   "metadata": {},
   "source": [
    "Eyetracking"
   ]
  },
  {
   "cell_type": "code",
   "execution_count": null,
   "metadata": {},
   "outputs": [],
   "source": [
    "import mne\n",
    "raw = mne.io.read_raw_brainvision(\"/Users/payamsadeghishabestari/antinomics_clean_codes/subjects/zdfy/EEG/xxxxx/zdfy_xxxxx.vhdr\")\n",
    "mne.read_events(raw)"
   ]
  },
  {
   "cell_type": "code",
   "execution_count": null,
   "metadata": {},
   "outputs": [],
   "source": [
    "raw.annotations"
   ]
  },
  {
   "cell_type": "code",
   "execution_count": null,
   "metadata": {},
   "outputs": [],
   "source": [
    "from mne.io import read_raw_brainvision, read_raw_eyelink\n",
    "from mne import events_from_annotations\n",
    "from mne.preprocessing import realign_raw\n",
    "\n",
    "\n",
    "## load\n",
    "fname_eeg = \"/Users/payamsadeghishabestari/Downloads/alertness_01_H036.vhdr\"\n",
    "fname_et = \"/Users/payamsadeghishabestari/Downloads/local_al1H036.asc\"\n",
    "\n",
    "raw_eeg = read_raw_brainvision(fname_eeg, preload=True)\n",
    "raw_eye = read_raw_eyelink(fname=fname_et, create_annotations=True) \n",
    "events_eeg, event_ids_eeg = events_from_annotations(raw_eeg)\n",
    "events_eye, event_ids_eye = events_from_annotations(raw_eye)\n",
    "\n",
    "## for now\n",
    "stim_id_eeg_1, stim_id_eeg_2 = 8, 9\n",
    "stim_id_eye_1, stim_id_eye_2 = 4, 5\n",
    "\n",
    "s_raw = events_eeg[(events_eeg[:,2] == stim_id_eeg_1) | (events_eeg[:,2] == stim_id_eeg_2)][:, 0]\n",
    "s_other = events_eye[(events_eye[:,2] == stim_id_eye_1) | (events_eye[:,2] == stim_id_eye_2)][:, 0]\n",
    "\n",
    "## realigning\n",
    "realign_raw(raw=raw_eeg,\n",
    "            other=raw_eye,\n",
    "            t_raw=s_raw / raw_eeg.info[\"sfreq\"] - raw_eeg.first_time,\n",
    "            t_other=s_other / raw_eye.info[\"sfreq\"] - raw_eye.first_time,\n",
    "            verbose=None)\n",
    "\n",
    "raw_eye.add_channels([raw_eeg], force_update_info=True)\n",
    "events, event_dict = events_from_annotations(raw_eye)\n",
    "del raw_eeg  "
   ]
  },
  {
   "cell_type": "code",
   "execution_count": null,
   "metadata": {},
   "outputs": [],
   "source": [
    "fname_eeg = \"/Users/payamsadeghishabestari/Downloads/alertness_01_H036.vhdr\"\n",
    "fname_et = \"/Users/payamsadeghishabestari/Downloads/local_al1H036.asc\"\n",
    "\n",
    "raw_eeg = read_raw_brainvision(fname_eeg, preload=True)\n",
    "raw_eye = read_raw_eyelink(fname=fname_et, create_annotations=True) "
   ]
  },
  {
   "cell_type": "code",
   "execution_count": null,
   "metadata": {},
   "outputs": [],
   "source": []
  },
  {
   "cell_type": "code",
   "execution_count": null,
   "metadata": {},
   "outputs": [],
   "source": [
    "raw_eye.plot()"
   ]
  },
  {
   "cell_type": "code",
   "execution_count": null,
   "metadata": {},
   "outputs": [],
   "source": []
  },
  {
   "cell_type": "code",
   "execution_count": null,
   "metadata": {},
   "outputs": [],
   "source": [
    "raw_eye.plot()"
   ]
  }
 ],
 "metadata": {
  "kernelspec": {
   "display_name": "venv",
   "language": "python",
   "name": "python3"
  },
  "language_info": {
   "codemirror_mode": {
    "name": "ipython",
    "version": 3
   },
   "file_extension": ".py",
   "mimetype": "text/x-python",
   "name": "python",
   "nbconvert_exporter": "python",
   "pygments_lexer": "ipython3",
   "version": "3.10.16"
  }
 },
 "nbformat": 4,
 "nbformat_minor": 2
}
