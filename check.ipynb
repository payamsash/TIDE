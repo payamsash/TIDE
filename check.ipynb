{
 "cells": [
  {
   "cell_type": "code",
   "execution_count": 1,
   "metadata": {},
   "outputs": [
    {
     "ename": "ModuleNotFoundError",
     "evalue": "No module named 'matplotlib'",
     "output_type": "error",
     "traceback": [
      "\u001b[31m---------------------------------------------------------------------------\u001b[39m",
      "\u001b[31mModuleNotFoundError\u001b[39m                       Traceback (most recent call last)",
      "\u001b[36mCell\u001b[39m\u001b[36m \u001b[39m\u001b[32mIn[1]\u001b[39m\u001b[32m, line 1\u001b[39m\n\u001b[32m----> \u001b[39m\u001b[32m1\u001b[39m \u001b[43mget_ipython\u001b[49m\u001b[43m(\u001b[49m\u001b[43m)\u001b[49m\u001b[43m.\u001b[49m\u001b[43mrun_line_magic\u001b[49m\u001b[43m(\u001b[49m\u001b[33;43m'\u001b[39;49m\u001b[33;43mmatplotlib\u001b[39;49m\u001b[33;43m'\u001b[39;49m\u001b[43m,\u001b[49m\u001b[43m \u001b[49m\u001b[33;43m'\u001b[39;49m\u001b[33;43mqt\u001b[39;49m\u001b[33;43m'\u001b[39;49m\u001b[43m)\u001b[49m\n\u001b[32m      2\u001b[39m \u001b[38;5;28;01mimport\u001b[39;00m\u001b[38;5;250m \u001b[39m\u001b[34;01mos\u001b[39;00m\n\u001b[32m      3\u001b[39m \u001b[38;5;28;01mfrom\u001b[39;00m\u001b[38;5;250m \u001b[39m\u001b[34;01mpathlib\u001b[39;00m\u001b[38;5;250m \u001b[39m\u001b[38;5;28;01mimport\u001b[39;00m Path\n",
      "\u001b[36mFile \u001b[39m\u001b[32m~/Tinnitus/Antinomics_Github/venv_Antinomics/lib/python3.12/site-packages/IPython/core/interactiveshell.py:2481\u001b[39m, in \u001b[36mInteractiveShell.run_line_magic\u001b[39m\u001b[34m(self, magic_name, line, _stack_depth)\u001b[39m\n\u001b[32m   2479\u001b[39m     kwargs[\u001b[33m'\u001b[39m\u001b[33mlocal_ns\u001b[39m\u001b[33m'\u001b[39m] = \u001b[38;5;28mself\u001b[39m.get_local_scope(stack_depth)\n\u001b[32m   2480\u001b[39m \u001b[38;5;28;01mwith\u001b[39;00m \u001b[38;5;28mself\u001b[39m.builtin_trap:\n\u001b[32m-> \u001b[39m\u001b[32m2481\u001b[39m     result = \u001b[43mfn\u001b[49m\u001b[43m(\u001b[49m\u001b[43m*\u001b[49m\u001b[43margs\u001b[49m\u001b[43m,\u001b[49m\u001b[43m \u001b[49m\u001b[43m*\u001b[49m\u001b[43m*\u001b[49m\u001b[43mkwargs\u001b[49m\u001b[43m)\u001b[49m\n\u001b[32m   2483\u001b[39m \u001b[38;5;66;03m# The code below prevents the output from being displayed\u001b[39;00m\n\u001b[32m   2484\u001b[39m \u001b[38;5;66;03m# when using magics with decorator @output_can_be_silenced\u001b[39;00m\n\u001b[32m   2485\u001b[39m \u001b[38;5;66;03m# when the last Python token in the expression is a ';'.\u001b[39;00m\n\u001b[32m   2486\u001b[39m \u001b[38;5;28;01mif\u001b[39;00m \u001b[38;5;28mgetattr\u001b[39m(fn, magic.MAGIC_OUTPUT_CAN_BE_SILENCED, \u001b[38;5;28;01mFalse\u001b[39;00m):\n",
      "\u001b[36mFile \u001b[39m\u001b[32m~/Tinnitus/Antinomics_Github/venv_Antinomics/lib/python3.12/site-packages/IPython/core/magics/pylab.py:103\u001b[39m, in \u001b[36mPylabMagics.matplotlib\u001b[39m\u001b[34m(self, line)\u001b[39m\n\u001b[32m     98\u001b[39m     \u001b[38;5;28mprint\u001b[39m(\n\u001b[32m     99\u001b[39m         \u001b[33m\"\u001b[39m\u001b[33mAvailable matplotlib backends: \u001b[39m\u001b[38;5;132;01m%s\u001b[39;00m\u001b[33m\"\u001b[39m\n\u001b[32m    100\u001b[39m         % _list_matplotlib_backends_and_gui_loops()\n\u001b[32m    101\u001b[39m     )\n\u001b[32m    102\u001b[39m \u001b[38;5;28;01melse\u001b[39;00m:\n\u001b[32m--> \u001b[39m\u001b[32m103\u001b[39m     gui, backend = \u001b[38;5;28;43mself\u001b[39;49m\u001b[43m.\u001b[49m\u001b[43mshell\u001b[49m\u001b[43m.\u001b[49m\u001b[43menable_matplotlib\u001b[49m\u001b[43m(\u001b[49m\u001b[43margs\u001b[49m\u001b[43m.\u001b[49m\u001b[43mgui\u001b[49m\u001b[43m)\u001b[49m\n\u001b[32m    104\u001b[39m     \u001b[38;5;28mself\u001b[39m._show_matplotlib_backend(args.gui, backend)\n",
      "\u001b[36mFile \u001b[39m\u001b[32m~/Tinnitus/Antinomics_Github/venv_Antinomics/lib/python3.12/site-packages/IPython/core/interactiveshell.py:3637\u001b[39m, in \u001b[36mInteractiveShell.enable_matplotlib\u001b[39m\u001b[34m(self, gui)\u001b[39m\n\u001b[32m   3634\u001b[39m     \u001b[38;5;28;01mimport\u001b[39;00m\u001b[38;5;250m \u001b[39m\u001b[34;01mmatplotlib_inline\u001b[39;00m\u001b[34;01m.\u001b[39;00m\u001b[34;01mbackend_inline\u001b[39;00m\n\u001b[32m   3636\u001b[39m \u001b[38;5;28;01mfrom\u001b[39;00m\u001b[38;5;250m \u001b[39m\u001b[34;01mIPython\u001b[39;00m\u001b[34;01m.\u001b[39;00m\u001b[34;01mcore\u001b[39;00m\u001b[38;5;250m \u001b[39m\u001b[38;5;28;01mimport\u001b[39;00m pylabtools \u001b[38;5;28;01mas\u001b[39;00m pt\n\u001b[32m-> \u001b[39m\u001b[32m3637\u001b[39m gui, backend = \u001b[43mpt\u001b[49m\u001b[43m.\u001b[49m\u001b[43mfind_gui_and_backend\u001b[49m\u001b[43m(\u001b[49m\u001b[43mgui\u001b[49m\u001b[43m,\u001b[49m\u001b[43m \u001b[49m\u001b[38;5;28;43mself\u001b[39;49m\u001b[43m.\u001b[49m\u001b[43mpylab_gui_select\u001b[49m\u001b[43m)\u001b[49m\n\u001b[32m   3639\u001b[39m \u001b[38;5;28;01mif\u001b[39;00m gui != \u001b[38;5;28;01mNone\u001b[39;00m:\n\u001b[32m   3640\u001b[39m     \u001b[38;5;66;03m# If we have our first gui selection, store it\u001b[39;00m\n\u001b[32m   3641\u001b[39m     \u001b[38;5;28;01mif\u001b[39;00m \u001b[38;5;28mself\u001b[39m.pylab_gui_select \u001b[38;5;129;01mis\u001b[39;00m \u001b[38;5;28;01mNone\u001b[39;00m:\n",
      "\u001b[36mFile \u001b[39m\u001b[32m~/Tinnitus/Antinomics_Github/venv_Antinomics/lib/python3.12/site-packages/IPython/core/pylabtools.py:338\u001b[39m, in \u001b[36mfind_gui_and_backend\u001b[39m\u001b[34m(gui, gui_select)\u001b[39m\n\u001b[32m    321\u001b[39m \u001b[38;5;28;01mdef\u001b[39;00m\u001b[38;5;250m \u001b[39m\u001b[34mfind_gui_and_backend\u001b[39m(gui=\u001b[38;5;28;01mNone\u001b[39;00m, gui_select=\u001b[38;5;28;01mNone\u001b[39;00m):\n\u001b[32m    322\u001b[39m \u001b[38;5;250m    \u001b[39m\u001b[33;03m\"\"\"Given a gui string return the gui and mpl backend.\u001b[39;00m\n\u001b[32m    323\u001b[39m \n\u001b[32m    324\u001b[39m \u001b[33;03m    Parameters\u001b[39;00m\n\u001b[32m   (...)\u001b[39m\u001b[32m    335\u001b[39m \u001b[33;03m    'WXAgg','Qt4Agg','module://matplotlib_inline.backend_inline','agg').\u001b[39;00m\n\u001b[32m    336\u001b[39m \u001b[33;03m    \"\"\"\u001b[39;00m\n\u001b[32m--> \u001b[39m\u001b[32m338\u001b[39m     \u001b[38;5;28;01mimport\u001b[39;00m\u001b[38;5;250m \u001b[39m\u001b[34;01mmatplotlib\u001b[39;00m\n\u001b[32m    340\u001b[39m     \u001b[38;5;28;01mif\u001b[39;00m _matplotlib_manages_backends():\n\u001b[32m    341\u001b[39m         backend_registry = matplotlib.backends.registry.backend_registry\n",
      "\u001b[31mModuleNotFoundError\u001b[39m: No module named 'matplotlib'"
     ]
    }
   ],
   "source": [
    "%matplotlib qt\n",
    "import os\n",
    "from pathlib import Path\n",
    "import matplotlib.pyplot as plt\n",
    "from tqdm import tqdm\n",
    "from mne.io import read_raw_brainvision, read_raw_fif\n",
    "\n",
    "from scipy.signal import find_peaks\n",
    "import numpy as np\n",
    "from mne.channels import read_dig_captrak, make_standard_montage\n",
    "from mne.preprocessing import ICA\n",
    "from mne_icalabel import label_components\n",
    "import customtkinter as ctk\n",
    "from mne.coreg import Coregistration\n",
    "from mne import (open_report, events_from_annotations, Epochs, write_trans,\n",
    "                setup_source_space, make_bem_model, make_bem_solution, make_forward_solution, compute_covariance,\n",
    "                extract_label_time_course, read_labels_from_annot)\n",
    "from mne.minimum_norm import make_inverse_operator, apply_inverse\n",
    "from mne.datasets import fetch_fsaverage\n",
    "from scipy.signal import find_peaks\n",
    "import warnings\n",
    "from mne.preprocessing import ICA, EOGRegression, create_eog_epochs, create_ecg_epochs, compute_proj_ecg, compute_proj_eog, EOGRegression"
   ]
  },
  {
   "cell_type": "code",
   "execution_count": null,
   "metadata": {},
   "outputs": [],
   "source": [
    "%%latex\n",
    "##### for preprocessing()\n",
    "## ask philip where is PO7, PO8, O1 and O2 and adjust it here\n",
    "## put these cahnnels as misc and see what we can do with it\n",
    "## kernel crash when running ctk\n",
    "## ssp for ecg (pulse)\n",
    "## ssp for vertical eye\n",
    "## regression for horizontal eye\n",
    "## .load_data()\n",
    "## add teas\n",
    "## GSR, X, Y, Y drop\n",
    "## rename y-axis in pulse plot maybe *1e9 and time shows\n",
    "## mne.preprocessing.annotate_break\n",
    "## interpolate bads (mne.preprocessing.find_bad_channels_lof)\n",
    "\n",
    "\n",
    "\n",
    "##### for run_analysis()\n",
    "## in gpias dont do baselining\n",
    "## double check with repo codes\n",
    "## ask gpias triggers code\n",
    "## documenatiaion\n",
    "## "
   ]
  },
  {
   "cell_type": "code",
   "execution_count": null,
   "metadata": {},
   "outputs": [],
   "source": [
    "x = \"/Volumes/Extreme SSD/payam_data/antinomics_data\"\n",
    "from pathlib import Path\n",
    "x= Path(x)"
   ]
  },
  {
   "cell_type": "code",
   "execution_count": null,
   "metadata": {},
   "outputs": [],
   "source": [
    "from files_prepration import create_subjects_dir\n",
    "\n",
    "subject_id = \"xrtt\"\n",
    "create_subjects_dir(subject_id=subject_id,\n",
    "                        raws_dir=\"/Volumes/G_USZ_ORL$/Research/ANTINOMICS/data\",\n",
    "                        subjects_dir=\"/Volumes/Extreme SSD/payam_data/antinomics_data\",\n",
    "                        skip_list=[\"gpias\", \"xxxxx\", \"xxxxy\", \"omi\"])"
   ]
  },
  {
   "cell_type": "code",
   "execution_count": null,
   "metadata": {},
   "outputs": [],
   "source": [
    "%matplotlib qt\n",
    "from eeg_preprocessing import preprocessing\n",
    "preprocessing(subject_id=\"zdfy\",\n",
    "                subjects_dir=\"/Users/payamsadeghishabestari/antinomics_clean_codes/subjects\",\n",
    "                paradigm=\"gpias\",\n",
    "                manual_data_scroll=True,\n",
    "                run_ica=False,\n",
    "                manual_ica_removal=False,\n",
    "                eog_correct=True,\n",
    "                pulse_correct=True,\n",
    "                resp_correct=False,\n",
    "                create_report=True,\n",
    "                saving_dir=None,\n",
    "                verbose=\"ERROR\")"
   ]
  },
  {
   "cell_type": "code",
   "execution_count": null,
   "metadata": {},
   "outputs": [],
   "source": [
    "%matplotlib qt\n",
    "from eeg_rs_processing import run_rs_analysis\n",
    "\n",
    "run_rs_analysis(\n",
    "        subject_id=\"zdfy\",\n",
    "        subjects_dir=\"/Users/payamsadeghishabestari/antinomics_clean_codes/subjects\",\n",
    "        visit=1,\n",
    "        event_ids=None,\n",
    "        source_analysis=True,\n",
    "        mri=False,\n",
    "        subjects_fs_dir=None,\n",
    "        manual_data_scroll=False,\n",
    "        create_report=True,\n",
    "        saving_dir=None,\n",
    "        verbose=\"ERROR\"\n",
    "        )\n"
   ]
  },
  {
   "cell_type": "code",
   "execution_count": null,
   "metadata": {},
   "outputs": [],
   "source": [
    "%matplotlib qt\n",
    "from eeg_erp_processing import run_erp_analysis\n",
    "\n",
    "run_erp_analysis(\n",
    "        subject_id=\"zdfy\",\n",
    "        subjects_dir=\"/Users/payamsadeghishabestari/antinomics_clean_codes/subjects\",\n",
    "        paradigm=\"gpias\",\n",
    "        events=None,\n",
    "        source_analysis=True,\n",
    "        mri=False,\n",
    "        subjects_fs_dir=None,\n",
    "        manual_data_scroll=False,\n",
    "        create_report=True,\n",
    "        saving_dir=None,\n",
    "        verbose=\"ERROR\"\n",
    "        )"
   ]
  },
  {
   "cell_type": "markdown",
   "metadata": {},
   "source": [
    "Eyetracking"
   ]
  },
  {
   "cell_type": "code",
   "execution_count": null,
   "metadata": {},
   "outputs": [],
   "source": [
    "import mne\n",
    "raw = mne.io.read_raw_brainvision(\"/Users/payamsadeghishabestari/antinomics_clean_codes/subjects/zdfy/EEG/xxxxx/zdfy_xxxxx.vhdr\")\n",
    "mne.read_events(raw)"
   ]
  },
  {
   "cell_type": "code",
   "execution_count": null,
   "metadata": {},
   "outputs": [],
   "source": [
    "raw.annotations"
   ]
  },
  {
   "cell_type": "code",
   "execution_count": null,
   "metadata": {},
   "outputs": [],
   "source": [
    "from mne.io import read_raw_brainvision, read_raw_eyelink\n",
    "from mne import events_from_annotations\n",
    "from mne.preprocessing import realign_raw\n",
    "\n",
    "\n",
    "## load\n",
    "fname_eeg = \"/Users/payamsadeghishabestari/Downloads/alertness_01_H036.vhdr\"\n",
    "fname_et = \"/Users/payamsadeghishabestari/Downloads/local_al1H036.asc\"\n",
    "\n",
    "raw_eeg = read_raw_brainvision(fname_eeg, preload=True)\n",
    "raw_eye = read_raw_eyelink(fname=fname_et, create_annotations=True) \n",
    "events_eeg, event_ids_eeg = events_from_annotations(raw_eeg)\n",
    "events_eye, event_ids_eye = events_from_annotations(raw_eye)\n",
    "\n",
    "## for now\n",
    "stim_id_eeg_1, stim_id_eeg_2 = 8, 9\n",
    "stim_id_eye_1, stim_id_eye_2 = 4, 5\n",
    "\n",
    "s_raw = events_eeg[(events_eeg[:,2] == stim_id_eeg_1) | (events_eeg[:,2] == stim_id_eeg_2)][:, 0]\n",
    "s_other = events_eye[(events_eye[:,2] == stim_id_eye_1) | (events_eye[:,2] == stim_id_eye_2)][:, 0]\n",
    "\n",
    "## realigning\n",
    "realign_raw(raw=raw_eeg,\n",
    "            other=raw_eye,\n",
    "            t_raw=s_raw / raw_eeg.info[\"sfreq\"] - raw_eeg.first_time,\n",
    "            t_other=s_other / raw_eye.info[\"sfreq\"] - raw_eye.first_time,\n",
    "            verbose=None)\n",
    "\n",
    "raw_eye.add_channels([raw_eeg], force_update_info=True)\n",
    "events, event_dict = events_from_annotations(raw_eye)\n",
    "del raw_eeg  "
   ]
  },
  {
   "cell_type": "code",
   "execution_count": null,
   "metadata": {},
   "outputs": [],
   "source": [
    "fname_eeg = \"/Users/payamsadeghishabestari/Downloads/alertness_01_H036.vhdr\"\n",
    "fname_et = \"/Users/payamsadeghishabestari/Downloads/local_al1H036.asc\"\n",
    "\n",
    "raw_eeg = read_raw_brainvision(fname_eeg, preload=True)\n",
    "raw_eye = read_raw_eyelink(fname=fname_et, create_annotations=True) "
   ]
  },
  {
   "cell_type": "code",
   "execution_count": null,
   "metadata": {},
   "outputs": [],
   "source": []
  },
  {
   "cell_type": "code",
   "execution_count": null,
   "metadata": {},
   "outputs": [],
   "source": [
    "raw_eye.plot()"
   ]
  },
  {
   "cell_type": "code",
   "execution_count": null,
   "metadata": {},
   "outputs": [],
   "source": []
  },
  {
   "cell_type": "code",
   "execution_count": null,
   "metadata": {},
   "outputs": [],
   "source": [
    "raw_eye.plot()"
   ]
  }
 ],
 "metadata": {
  "kernelspec": {
   "display_name": "Github_Antinomics",
   "language": "python",
   "name": "github_antinomics"
  },
  "language_info": {
   "codemirror_mode": {
    "name": "ipython",
    "version": 3
   },
   "file_extension": ".py",
   "mimetype": "text/x-python",
   "name": "python",
   "nbconvert_exporter": "python",
   "pygments_lexer": "ipython3",
   "version": "3.12.3"
  }
 },
 "nbformat": 4,
 "nbformat_minor": 4
}
